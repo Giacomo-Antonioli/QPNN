{
 "cells": [
  {
   "cell_type": "code",
   "execution_count": 1,
   "id": "82a60f9f-f16e-4e96-a6d8-9a08e765409d",
   "metadata": {
    "ExecuteTime": {
     "end_time": "2024-07-04T09:19:33.254271Z",
     "start_time": "2024-07-04T09:19:33.224981Z"
    }
   },
   "outputs": [
    {
     "name": "stderr",
     "output_type": "stream",
     "text": [
      "c:\\Users\\giaco\\anaconda3\\envs\\pennylane\\Lib\\site-packages\\torch\\_subclasses\\functional_tensor.py:295: UserWarning: Failed to initialize NumPy: DLL load failed while importing _multiarray_umath: Impossibile trovare il modulo specificato. (Triggered internally at C:\\cb\\pytorch_1000000000000\\work\\torch\\csrc\\utils\\tensor_numpy.cpp:84.)\n",
      "  cpu = _conversion_method_template(device=torch.device(\"cpu\"))\n"
     ]
    },
    {
     "ename": "ImportError",
     "evalue": "DLL load failed while importing _multiarray_umath: Impossibile trovare il modulo specificato.",
     "output_type": "error",
     "traceback": [
      "\u001b[1;31m---------------------------------------------------------------------------\u001b[0m",
      "\u001b[1;31mImportError\u001b[0m                               Traceback (most recent call last)",
      "\u001b[1;31mImportError\u001b[0m: DLL load failed while importing _multiarray_umath: Impossibile trovare il modulo specificato."
     ]
    }
   ],
   "source": [
    "import wandb\n",
    "from QPNN import *\n"
   ]
  },
  {
   "cell_type": "code",
   "execution_count": 2,
   "id": "246657f1",
   "metadata": {},
   "outputs": [],
   "source": [
    "dataset_list={\"iris\": 1,\"digits\": 2,\"wine\": 3,\"cancer\": 4, \"iris_linear\": 5, \"moon\": 6, \"retinamnist\": 7}\n",
    "\n",
    "target_dataset=\"iris_linear\""
   ]
  },
  {
   "cell_type": "code",
   "execution_count": 3,
   "id": "9c880749-9b5c-49c7-b9ae-83e74db7123e",
   "metadata": {},
   "outputs": [],
   "source": [
    "def main(gpu=False):\n",
    "    x,xval,y,yval=get_dataset(dataset_list[target_dataset],split=True)\n",
    "    net=QPNN([5],x,y,xval,yval)#,\n",
    "    if not gpu:\n",
    "        net.device=\"cpu\"\n",
    "    net.train(wandb_verbose=False,verbose=True)"
   ]
  },
  {
   "cell_type": "code",
   "execution_count": 4,
   "id": "bab2ffc1-bd37-4405-9edb-0a8bc1b52e8a",
   "metadata": {},
   "outputs": [],
   "source": [
    "def generate_sweep_config():\n",
    "    wandb.login()\n",
    "    sweep_config = {'method': 'bayes'}\n",
    "    metric = {'name': 'loss','goal': 'minimize'}\n",
    "    sweep_config['metric'] = metric\n",
    "    parameters_dict = { 'epochs': {\n",
    "                            'values': [10,50,100,200]},\n",
    "                       'optimizer':{'values':[\"SGD\",\"ADAM\",\"ADAMW\",\"RMSPROP\"]},\n",
    "                        'arch_elements':{'values':[2,4,5,6,7,10]}\n",
    "                        }\n",
    "    sweep_config['parameters'] = parameters_dict\n",
    "    parameters_dict.update({\n",
    "        'learning_rate': {\n",
    "            # a flat distribution between 0 and 0.1\n",
    "            'distribution': 'uniform',\n",
    "            'min': 0,\n",
    "            'max': 0.9\n",
    "          },\n",
    "        'batch_size': {\n",
    "            # integers between 32 and 256\n",
    "            # with evenly-distributed logarithms \n",
    "            'distribution': 'q_log_uniform_values',\n",
    "            'q': 2,\n",
    "            'min': 8,\n",
    "            'max': 100,\n",
    "          }\n",
    "        })\n",
    "    #pprint.pprint(sweep_config)\n",
    "    return sweep_config"
   ]
  },
  {
   "cell_type": "code",
   "execution_count": 5,
   "id": "8f6477f8-c73e-4ef3-aa81-966926f25931",
   "metadata": {
    "scrolled": true
   },
   "outputs": [
    {
     "name": "stderr",
     "output_type": "stream",
     "text": [
      "wandb: Using wandb-core as the SDK backend. Please refer to https://wandb.me/wandb-core for more information.\n",
      "wandb: Currently logged in as: giacomoantonioli (quantum_kets). Use `wandb login --relogin` to force relogin\n"
     ]
    },
    {
     "name": "stdout",
     "output_type": "stream",
     "text": [
      "Create sweep with ID: x1zj339n\n",
      "Sweep URL: https://wandb.ai/quantum_kets/QPNN_TRAIN_SWEEP_iris_linear/sweeps/x1zj339n\n"
     ]
    },
    {
     "name": "stderr",
     "output_type": "stream",
     "text": [
      "wandb: Agent Starting Run: 07bg50s3 with config:\n",
      "wandb: \tarch_elements: 2\n",
      "wandb: \tbatch_size: 24\n",
      "wandb: \tepochs: 50\n",
      "wandb: \tlearning_rate: 0.1552954730542214\n",
      "wandb: \toptimizer: ADAMW\n"
     ]
    },
    {
     "name": "stdout",
     "output_type": "stream",
     "text": [
      "Getting dataset:  {'iris_linear'}\n"
     ]
    },
    {
     "name": "stderr",
     "output_type": "stream",
     "text": [
      "Run 07bg50s3 errored:\n",
      "Traceback (most recent call last):\n",
      "  File \"c:\\Users\\giaco\\anaconda3\\envs\\pennylane\\Lib\\site-packages\\wandb\\agents\\pyagent.py\", line 306, in _run_job\n",
      "    self._function()\n",
      "  File \"C:\\Users\\giaco\\AppData\\Local\\Temp\\ipykernel_17160\\1767565875.py\", line 2, in main\n",
      "    x,xval,y,yval=get_dataset(dataset_list[target_dataset],split=True)\n",
      "                  ^^^^^^^^^^^^^^^^^^^^^^^^^^^^^^^^^^^^^^^^^^^^^^^^^^^^\n",
      "  File \"c:\\Users\\giaco\\Documents\\QPNN\\QPNN\\QPNN.py\", line 137, in get_dataset\n",
      "    return train_test_split(X, y_hot, test_size=split_percentage, random_state=42)\n",
      "           ^^^^^^^^^^^^^^^^^^^^^^^^^^^^^^^^^^^^^^^^^^^^^^^^^^^^^^^^^^^^^^^^^^^^^^^\n",
      "  File \"c:\\Users\\giaco\\anaconda3\\envs\\pennylane\\Lib\\site-packages\\sklearn\\utils\\_param_validation.py\", line 213, in wrapper\n",
      "    return func(*args, **kwargs)\n",
      "           ^^^^^^^^^^^^^^^^^^^^^\n",
      "  File \"c:\\Users\\giaco\\anaconda3\\envs\\pennylane\\Lib\\site-packages\\sklearn\\model_selection\\_split.py\", line 2805, in train_test_split\n",
      "    return list(\n",
      "           ^^^^^\n",
      "  File \"c:\\Users\\giaco\\anaconda3\\envs\\pennylane\\Lib\\site-packages\\sklearn\\model_selection\\_split.py\", line 2807, in <genexpr>\n",
      "    (_safe_indexing(a, train), _safe_indexing(a, test)) for a in arrays\n",
      "     ^^^^^^^^^^^^^^^^^^^^^^^^\n",
      "  File \"c:\\Users\\giaco\\anaconda3\\envs\\pennylane\\Lib\\site-packages\\sklearn\\utils\\_indexing.py\", line 267, in _safe_indexing\n",
      "    return _array_indexing(X, indices, indices_dtype, axis=axis)\n",
      "           ^^^^^^^^^^^^^^^^^^^^^^^^^^^^^^^^^^^^^^^^^^^^^^^^^^^^^\n",
      "  File \"c:\\Users\\giaco\\anaconda3\\envs\\pennylane\\Lib\\site-packages\\sklearn\\utils\\_indexing.py\", line 33, in _array_indexing\n",
      "    return array[key, ...] if axis == 0 else array[:, key]\n",
      "           ~~~~~^^^^^^^^^^\n",
      "RuntimeError: Could not infer dtype of numpy.int32\n",
      "\n",
      "wandb: ERROR Run 07bg50s3 errored:\n",
      "wandb: ERROR Traceback (most recent call last):\n",
      "wandb: ERROR   File \"c:\\Users\\giaco\\anaconda3\\envs\\pennylane\\Lib\\site-packages\\wandb\\agents\\pyagent.py\", line 306, in _run_job\n",
      "wandb: ERROR     self._function()\n",
      "wandb: ERROR   File \"C:\\Users\\giaco\\AppData\\Local\\Temp\\ipykernel_17160\\1767565875.py\", line 2, in main\n",
      "wandb: ERROR     x,xval,y,yval=get_dataset(dataset_list[target_dataset],split=True)\n",
      "wandb: ERROR                   ^^^^^^^^^^^^^^^^^^^^^^^^^^^^^^^^^^^^^^^^^^^^^^^^^^^^\n",
      "wandb: ERROR   File \"c:\\Users\\giaco\\Documents\\QPNN\\QPNN\\QPNN.py\", line 137, in get_dataset\n",
      "wandb: ERROR     return train_test_split(X, y_hot, test_size=split_percentage, random_state=42)\n",
      "wandb: ERROR            ^^^^^^^^^^^^^^^^^^^^^^^^^^^^^^^^^^^^^^^^^^^^^^^^^^^^^^^^^^^^^^^^^^^^^^^\n",
      "wandb: ERROR   File \"c:\\Users\\giaco\\anaconda3\\envs\\pennylane\\Lib\\site-packages\\sklearn\\utils\\_param_validation.py\", line 213, in wrapper\n",
      "wandb: ERROR     return func(*args, **kwargs)\n",
      "wandb: ERROR            ^^^^^^^^^^^^^^^^^^^^^\n",
      "wandb: ERROR   File \"c:\\Users\\giaco\\anaconda3\\envs\\pennylane\\Lib\\site-packages\\sklearn\\model_selection\\_split.py\", line 2805, in train_test_split\n",
      "wandb: ERROR     return list(\n",
      "wandb: ERROR            ^^^^^\n",
      "wandb: ERROR   File \"c:\\Users\\giaco\\anaconda3\\envs\\pennylane\\Lib\\site-packages\\sklearn\\model_selection\\_split.py\", line 2807, in <genexpr>\n",
      "wandb: ERROR     (_safe_indexing(a, train), _safe_indexing(a, test)) for a in arrays\n",
      "wandb: ERROR      ^^^^^^^^^^^^^^^^^^^^^^^^\n",
      "wandb: ERROR   File \"c:\\Users\\giaco\\anaconda3\\envs\\pennylane\\Lib\\site-packages\\sklearn\\utils\\_indexing.py\", line 267, in _safe_indexing\n",
      "wandb: ERROR     return _array_indexing(X, indices, indices_dtype, axis=axis)\n",
      "wandb: ERROR            ^^^^^^^^^^^^^^^^^^^^^^^^^^^^^^^^^^^^^^^^^^^^^^^^^^^^^\n",
      "wandb: ERROR   File \"c:\\Users\\giaco\\anaconda3\\envs\\pennylane\\Lib\\site-packages\\sklearn\\utils\\_indexing.py\", line 33, in _array_indexing\n",
      "wandb: ERROR     return array[key, ...] if axis == 0 else array[:, key]\n",
      "wandb: ERROR            ~~~~~^^^^^^^^^^\n",
      "wandb: ERROR RuntimeError: Could not infer dtype of numpy.int32\n",
      "wandb: ERROR \n",
      "wandb: Sweep Agent: Waiting for job.\n",
      "wandb: Job received.\n",
      "wandb: Agent Starting Run: dt5qxo9i with config:\n",
      "wandb: \tarch_elements: 5\n",
      "wandb: \tbatch_size: 10\n",
      "wandb: \tepochs: 200\n",
      "wandb: \tlearning_rate: 0.1325627799380309\n",
      "wandb: \toptimizer: ADAM\n"
     ]
    },
    {
     "name": "stdout",
     "output_type": "stream",
     "text": [
      "Getting dataset:  {'iris_linear'}\n"
     ]
    },
    {
     "name": "stderr",
     "output_type": "stream",
     "text": [
      "Run dt5qxo9i errored:\n",
      "Traceback (most recent call last):\n",
      "  File \"c:\\Users\\giaco\\anaconda3\\envs\\pennylane\\Lib\\site-packages\\wandb\\agents\\pyagent.py\", line 306, in _run_job\n",
      "    self._function()\n",
      "  File \"C:\\Users\\giaco\\AppData\\Local\\Temp\\ipykernel_17160\\1767565875.py\", line 2, in main\n",
      "    x,xval,y,yval=get_dataset(dataset_list[target_dataset],split=True)\n",
      "                  ^^^^^^^^^^^^^^^^^^^^^^^^^^^^^^^^^^^^^^^^^^^^^^^^^^^^\n",
      "  File \"c:\\Users\\giaco\\Documents\\QPNN\\QPNN\\QPNN.py\", line 137, in get_dataset\n",
      "    return train_test_split(X, y_hot, test_size=split_percentage, random_state=42)\n",
      "           ^^^^^^^^^^^^^^^^^^^^^^^^^^^^^^^^^^^^^^^^^^^^^^^^^^^^^^^^^^^^^^^^^^^^^^^\n",
      "  File \"c:\\Users\\giaco\\anaconda3\\envs\\pennylane\\Lib\\site-packages\\sklearn\\utils\\_param_validation.py\", line 213, in wrapper\n",
      "    return func(*args, **kwargs)\n",
      "           ^^^^^^^^^^^^^^^^^^^^^\n",
      "  File \"c:\\Users\\giaco\\anaconda3\\envs\\pennylane\\Lib\\site-packages\\sklearn\\model_selection\\_split.py\", line 2805, in train_test_split\n",
      "    return list(\n",
      "           ^^^^^\n",
      "  File \"c:\\Users\\giaco\\anaconda3\\envs\\pennylane\\Lib\\site-packages\\sklearn\\model_selection\\_split.py\", line 2807, in <genexpr>\n",
      "    (_safe_indexing(a, train), _safe_indexing(a, test)) for a in arrays\n",
      "     ^^^^^^^^^^^^^^^^^^^^^^^^\n",
      "  File \"c:\\Users\\giaco\\anaconda3\\envs\\pennylane\\Lib\\site-packages\\sklearn\\utils\\_indexing.py\", line 267, in _safe_indexing\n",
      "    return _array_indexing(X, indices, indices_dtype, axis=axis)\n",
      "           ^^^^^^^^^^^^^^^^^^^^^^^^^^^^^^^^^^^^^^^^^^^^^^^^^^^^^\n",
      "  File \"c:\\Users\\giaco\\anaconda3\\envs\\pennylane\\Lib\\site-packages\\sklearn\\utils\\_indexing.py\", line 33, in _array_indexing\n",
      "    return array[key, ...] if axis == 0 else array[:, key]\n",
      "           ~~~~~^^^^^^^^^^\n",
      "RuntimeError: Could not infer dtype of numpy.int32\n",
      "\n",
      "wandb: ERROR Run dt5qxo9i errored:\n",
      "wandb: ERROR Traceback (most recent call last):\n",
      "wandb: ERROR   File \"c:\\Users\\giaco\\anaconda3\\envs\\pennylane\\Lib\\site-packages\\wandb\\agents\\pyagent.py\", line 306, in _run_job\n",
      "wandb: ERROR     self._function()\n",
      "wandb: ERROR   File \"C:\\Users\\giaco\\AppData\\Local\\Temp\\ipykernel_17160\\1767565875.py\", line 2, in main\n",
      "wandb: ERROR     x,xval,y,yval=get_dataset(dataset_list[target_dataset],split=True)\n",
      "wandb: ERROR                   ^^^^^^^^^^^^^^^^^^^^^^^^^^^^^^^^^^^^^^^^^^^^^^^^^^^^\n",
      "wandb: ERROR   File \"c:\\Users\\giaco\\Documents\\QPNN\\QPNN\\QPNN.py\", line 137, in get_dataset\n",
      "wandb: ERROR     return train_test_split(X, y_hot, test_size=split_percentage, random_state=42)\n",
      "wandb: ERROR            ^^^^^^^^^^^^^^^^^^^^^^^^^^^^^^^^^^^^^^^^^^^^^^^^^^^^^^^^^^^^^^^^^^^^^^^\n",
      "wandb: ERROR   File \"c:\\Users\\giaco\\anaconda3\\envs\\pennylane\\Lib\\site-packages\\sklearn\\utils\\_param_validation.py\", line 213, in wrapper\n",
      "wandb: ERROR     return func(*args, **kwargs)\n",
      "wandb: ERROR            ^^^^^^^^^^^^^^^^^^^^^\n",
      "wandb: ERROR   File \"c:\\Users\\giaco\\anaconda3\\envs\\pennylane\\Lib\\site-packages\\sklearn\\model_selection\\_split.py\", line 2805, in train_test_split\n",
      "wandb: ERROR     return list(\n",
      "wandb: ERROR            ^^^^^\n",
      "wandb: ERROR   File \"c:\\Users\\giaco\\anaconda3\\envs\\pennylane\\Lib\\site-packages\\sklearn\\model_selection\\_split.py\", line 2807, in <genexpr>\n",
      "wandb: ERROR     (_safe_indexing(a, train), _safe_indexing(a, test)) for a in arrays\n",
      "wandb: ERROR      ^^^^^^^^^^^^^^^^^^^^^^^^\n",
      "wandb: ERROR   File \"c:\\Users\\giaco\\anaconda3\\envs\\pennylane\\Lib\\site-packages\\sklearn\\utils\\_indexing.py\", line 267, in _safe_indexing\n",
      "wandb: ERROR     return _array_indexing(X, indices, indices_dtype, axis=axis)\n",
      "wandb: ERROR            ^^^^^^^^^^^^^^^^^^^^^^^^^^^^^^^^^^^^^^^^^^^^^^^^^^^^^\n",
      "wandb: ERROR   File \"c:\\Users\\giaco\\anaconda3\\envs\\pennylane\\Lib\\site-packages\\sklearn\\utils\\_indexing.py\", line 33, in _array_indexing\n",
      "wandb: ERROR     return array[key, ...] if axis == 0 else array[:, key]\n",
      "wandb: ERROR            ~~~~~^^^^^^^^^^\n",
      "wandb: ERROR RuntimeError: Could not infer dtype of numpy.int32\n",
      "wandb: ERROR \n",
      "wandb: Agent Starting Run: z4ynrsl5 with config:\n",
      "wandb: \tarch_elements: 4\n",
      "wandb: \tbatch_size: 26\n",
      "wandb: \tepochs: 50\n",
      "wandb: \tlearning_rate: 0.4610475968117498\n",
      "wandb: \toptimizer: ADAM\n"
     ]
    },
    {
     "name": "stdout",
     "output_type": "stream",
     "text": [
      "Getting dataset:  {'iris_linear'}\n"
     ]
    },
    {
     "name": "stderr",
     "output_type": "stream",
     "text": [
      "Run z4ynrsl5 errored:\n",
      "Traceback (most recent call last):\n",
      "  File \"c:\\Users\\giaco\\anaconda3\\envs\\pennylane\\Lib\\site-packages\\wandb\\agents\\pyagent.py\", line 306, in _run_job\n",
      "    self._function()\n",
      "  File \"C:\\Users\\giaco\\AppData\\Local\\Temp\\ipykernel_17160\\1767565875.py\", line 2, in main\n",
      "    x,xval,y,yval=get_dataset(dataset_list[target_dataset],split=True)\n",
      "                  ^^^^^^^^^^^^^^^^^^^^^^^^^^^^^^^^^^^^^^^^^^^^^^^^^^^^\n",
      "  File \"c:\\Users\\giaco\\Documents\\QPNN\\QPNN\\QPNN.py\", line 137, in get_dataset\n",
      "    return train_test_split(X, y_hot, test_size=split_percentage, random_state=42)\n",
      "           ^^^^^^^^^^^^^^^^^^^^^^^^^^^^^^^^^^^^^^^^^^^^^^^^^^^^^^^^^^^^^^^^^^^^^^^\n",
      "  File \"c:\\Users\\giaco\\anaconda3\\envs\\pennylane\\Lib\\site-packages\\sklearn\\utils\\_param_validation.py\", line 213, in wrapper\n",
      "    return func(*args, **kwargs)\n",
      "           ^^^^^^^^^^^^^^^^^^^^^\n",
      "  File \"c:\\Users\\giaco\\anaconda3\\envs\\pennylane\\Lib\\site-packages\\sklearn\\model_selection\\_split.py\", line 2805, in train_test_split\n",
      "    return list(\n",
      "           ^^^^^\n",
      "  File \"c:\\Users\\giaco\\anaconda3\\envs\\pennylane\\Lib\\site-packages\\sklearn\\model_selection\\_split.py\", line 2807, in <genexpr>\n",
      "    (_safe_indexing(a, train), _safe_indexing(a, test)) for a in arrays\n",
      "     ^^^^^^^^^^^^^^^^^^^^^^^^\n",
      "  File \"c:\\Users\\giaco\\anaconda3\\envs\\pennylane\\Lib\\site-packages\\sklearn\\utils\\_indexing.py\", line 267, in _safe_indexing\n",
      "    return _array_indexing(X, indices, indices_dtype, axis=axis)\n",
      "           ^^^^^^^^^^^^^^^^^^^^^^^^^^^^^^^^^^^^^^^^^^^^^^^^^^^^^\n",
      "  File \"c:\\Users\\giaco\\anaconda3\\envs\\pennylane\\Lib\\site-packages\\sklearn\\utils\\_indexing.py\", line 33, in _array_indexing\n",
      "    return array[key, ...] if axis == 0 else array[:, key]\n",
      "           ~~~~~^^^^^^^^^^\n",
      "RuntimeError: Could not infer dtype of numpy.int32\n",
      "\n",
      "wandb: ERROR Run z4ynrsl5 errored:\n",
      "wandb: ERROR Traceback (most recent call last):\n",
      "wandb: ERROR   File \"c:\\Users\\giaco\\anaconda3\\envs\\pennylane\\Lib\\site-packages\\wandb\\agents\\pyagent.py\", line 306, in _run_job\n",
      "wandb: ERROR     self._function()\n",
      "wandb: ERROR   File \"C:\\Users\\giaco\\AppData\\Local\\Temp\\ipykernel_17160\\1767565875.py\", line 2, in main\n",
      "wandb: ERROR     x,xval,y,yval=get_dataset(dataset_list[target_dataset],split=True)\n",
      "wandb: ERROR                   ^^^^^^^^^^^^^^^^^^^^^^^^^^^^^^^^^^^^^^^^^^^^^^^^^^^^\n",
      "wandb: ERROR   File \"c:\\Users\\giaco\\Documents\\QPNN\\QPNN\\QPNN.py\", line 137, in get_dataset\n",
      "wandb: ERROR     return train_test_split(X, y_hot, test_size=split_percentage, random_state=42)\n",
      "wandb: ERROR            ^^^^^^^^^^^^^^^^^^^^^^^^^^^^^^^^^^^^^^^^^^^^^^^^^^^^^^^^^^^^^^^^^^^^^^^\n",
      "wandb: ERROR   File \"c:\\Users\\giaco\\anaconda3\\envs\\pennylane\\Lib\\site-packages\\sklearn\\utils\\_param_validation.py\", line 213, in wrapper\n",
      "wandb: ERROR     return func(*args, **kwargs)\n",
      "wandb: ERROR            ^^^^^^^^^^^^^^^^^^^^^\n",
      "wandb: ERROR   File \"c:\\Users\\giaco\\anaconda3\\envs\\pennylane\\Lib\\site-packages\\sklearn\\model_selection\\_split.py\", line 2805, in train_test_split\n",
      "wandb: ERROR     return list(\n",
      "wandb: ERROR            ^^^^^\n",
      "wandb: ERROR   File \"c:\\Users\\giaco\\anaconda3\\envs\\pennylane\\Lib\\site-packages\\sklearn\\model_selection\\_split.py\", line 2807, in <genexpr>\n",
      "wandb: ERROR     (_safe_indexing(a, train), _safe_indexing(a, test)) for a in arrays\n",
      "wandb: ERROR      ^^^^^^^^^^^^^^^^^^^^^^^^\n",
      "wandb: ERROR   File \"c:\\Users\\giaco\\anaconda3\\envs\\pennylane\\Lib\\site-packages\\sklearn\\utils\\_indexing.py\", line 267, in _safe_indexing\n",
      "wandb: ERROR     return _array_indexing(X, indices, indices_dtype, axis=axis)\n",
      "wandb: ERROR            ^^^^^^^^^^^^^^^^^^^^^^^^^^^^^^^^^^^^^^^^^^^^^^^^^^^^^\n",
      "wandb: ERROR   File \"c:\\Users\\giaco\\anaconda3\\envs\\pennylane\\Lib\\site-packages\\sklearn\\utils\\_indexing.py\", line 33, in _array_indexing\n",
      "wandb: ERROR     return array[key, ...] if axis == 0 else array[:, key]\n",
      "wandb: ERROR            ~~~~~^^^^^^^^^^\n",
      "wandb: ERROR RuntimeError: Could not infer dtype of numpy.int32\n",
      "wandb: ERROR \n",
      "Detected 3 failed runs in the first 60 seconds, killing sweep.\n",
      "wandb: ERROR Detected 3 failed runs in the first 60 seconds, killing sweep.\n",
      "wandb: To disable this check set WANDB_AGENT_DISABLE_FLAPPING=true\n"
     ]
    }
   ],
   "source": [
    "sweep_id = wandb.sweep(sweep=generate_sweep_config(), entity='quantum_kets', project='QPNN_TRAIN_SWEEP_'+target_dataset)\n",
    "wandb.agent(sweep_id, function=main, count=200)"
   ]
  },
  {
   "cell_type": "code",
   "execution_count": null,
   "id": "cc15231c-605d-4761-9539-c61d998e9ffc",
   "metadata": {},
   "outputs": [],
   "source": []
  }
 ],
 "metadata": {
  "kernelspec": {
   "display_name": "Python 3 (ipykernel)",
   "language": "python",
   "name": "python3"
  },
  "language_info": {
   "codemirror_mode": {
    "name": "ipython",
    "version": 3
   },
   "file_extension": ".py",
   "mimetype": "text/x-python",
   "name": "python",
   "nbconvert_exporter": "python",
   "pygments_lexer": "ipython3",
   "version": "3.10.15"
  }
 },
 "nbformat": 4,
 "nbformat_minor": 5
}
