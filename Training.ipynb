{
 "cells": [
  {
   "cell_type": "code",
   "execution_count": null,
   "id": "82a60f9f-f16e-4e96-a6d8-9a08e765409d",
   "metadata": {},
   "outputs": [],
   "source": [
    "import wandb\n",
    "from QPNN import *\n",
    "from medmnist import PneumoniaMNIST\n",
    "dataset = PneumoniaMNIST(split=\"test\", download=True)\n",
    "import torchvision.transforms as transforms\n",
    "import medmnist\n",
    "import numpy as np\n",
    "from medmnist import INFO, Evaluator\n",
    "target_dataset=\"retinamnist\"\n",
    "dataset_list={\"iris\": 1,\"digits\": 2,\"wine\": 3,\"cancer\": 4, \"iris_linear\": 5, \"moon\": 6, \"retinamnist\": 7}\n",
    "print(dataset_list)"
   ]
  },
  {
   "cell_type": "code",
   "execution_count": null,
   "id": "9c880749-9b5c-49c7-b9ae-83e74db7123e",
   "metadata": {},
   "outputs": [],
   "source": [
    "def main(gpu=False):\n",
    "    x,xval,y,yval=get_dataset(dataset_list[target_dataset],split=True)\n",
    "    net=QPNN([5],x,y,xval,yval)#,\n",
    "    if not gpu:\n",
    "        net.device=\"cpu\"\n",
    "    net.train(wandb_verbose=False,verbose=True)"
   ]
  },
  {
   "cell_type": "code",
   "execution_count": null,
   "id": "521c6a37-67e8-4996-9636-1217dfe038c5",
   "metadata": {},
   "outputs": [],
   "source": [
    "main()"
   ]
  },
  {
   "cell_type": "code",
   "execution_count": null,
   "id": "bab2ffc1-bd37-4405-9edb-0a8bc1b52e8a",
   "metadata": {},
   "outputs": [],
   "source": [
    "def generate_sweep_config():\n",
    "    wandb.login()\n",
    "    sweep_config = {'method': 'bayes'}\n",
    "    metric = {'name': 'loss','goal': 'minimize'}\n",
    "    sweep_config['metric'] = metric\n",
    "    parameters_dict = { 'epochs': {\n",
    "                            'values': [10,50,100,200]},\n",
    "                       'optimizer':{'values':[\"SGD\",\"ADAM\",\"ADAMW\",\"RMSPROP\"]},\n",
    "                        'arch_elements':{'values':[2,4,5,6,7,10]}\n",
    "                        }\n",
    "    sweep_config['parameters'] = parameters_dict\n",
    "    parameters_dict.update({\n",
    "        'learning_rate': {\n",
    "            # a flat distribution between 0 and 0.1\n",
    "            'distribution': 'uniform',\n",
    "            'min': 0,\n",
    "            'max': 0.9\n",
    "          },\n",
    "        'batch_size': {\n",
    "            # integers between 32 and 256\n",
    "            # with evenly-distributed logarithms \n",
    "            'distribution': 'q_log_uniform_values',\n",
    "            'q': 2,\n",
    "            'min': 8,\n",
    "            'max': 100,\n",
    "          }\n",
    "        })\n",
    "    pprint.pprint(sweep_config)\n",
    "    return sweep_config"
   ]
  },
  {
   "cell_type": "code",
   "execution_count": null,
   "id": "8f6477f8-c73e-4ef3-aa81-966926f25931",
   "metadata": {
    "scrolled": true
   },
   "outputs": [],
   "source": [
    "sweep_id = wandb.sweep(sweep=generate_sweep_config(), entity='quantum_kets', project='QPNNTRAINSWEEP_retinaMNIST')\n",
    "wandb.agent(sweep_id, function=main, count=200)"
   ]
  },
  {
   "cell_type": "code",
   "execution_count": null,
   "id": "cc15231c-605d-4761-9539-c61d998e9ffc",
   "metadata": {},
   "outputs": [],
   "source": []
  }
 ],
 "metadata": {
  "kernelspec": {
   "display_name": "Python 3 (ipykernel)",
   "language": "python",
   "name": "python3"
  },
  "language_info": {
   "codemirror_mode": {
    "name": "ipython",
    "version": 3
   },
   "file_extension": ".py",
   "mimetype": "text/x-python",
   "name": "python",
   "nbconvert_exporter": "python",
   "pygments_lexer": "ipython3",
   "version": "3.11.9"
  }
 },
 "nbformat": 4,
 "nbformat_minor": 5
}
