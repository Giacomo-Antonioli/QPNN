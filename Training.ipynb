{
 "cells": [
  {
   "cell_type": "code",
   "id": "82a60f9f-f16e-4e96-a6d8-9a08e765409d",
   "metadata": {
    "ExecuteTime": {
     "end_time": "2024-07-04T09:19:33.254271Z",
     "start_time": "2024-07-04T09:19:33.224981Z"
    }
   },
   "source": [
    "import wandb\n",
    "from QPNN import *\n",
    "dataset_list={\"iris\": 1,\"digits\": 2,\"wine\": 3,\"cancer\": 4, \"iris_linear\": 5, \"moon\": 6, \"retinamnist\": 7}\n"
   ],
   "outputs": [
    {
     "ename": "ModuleNotFoundError",
     "evalue": "No module named 'QPNN'",
     "output_type": "error",
     "traceback": [
      "\u001B[1;31m---------------------------------------------------------------------------\u001B[0m",
      "\u001B[1;31mModuleNotFoundError\u001B[0m                       Traceback (most recent call last)",
      "Cell \u001B[1;32mIn[5], line 2\u001B[0m\n\u001B[0;32m      1\u001B[0m \u001B[38;5;28;01mimport\u001B[39;00m \u001B[38;5;21;01mwandb\u001B[39;00m\n\u001B[1;32m----> 2\u001B[0m \u001B[38;5;28;01mfrom\u001B[39;00m \u001B[38;5;21;01mQPNN\u001B[39;00m \u001B[38;5;28;01mimport\u001B[39;00m QPNN\n\u001B[0;32m      3\u001B[0m dataset_list\u001B[38;5;241m=\u001B[39m{\u001B[38;5;124m\"\u001B[39m\u001B[38;5;124miris\u001B[39m\u001B[38;5;124m\"\u001B[39m: \u001B[38;5;241m1\u001B[39m,\u001B[38;5;124m\"\u001B[39m\u001B[38;5;124mdigits\u001B[39m\u001B[38;5;124m\"\u001B[39m: \u001B[38;5;241m2\u001B[39m,\u001B[38;5;124m\"\u001B[39m\u001B[38;5;124mwine\u001B[39m\u001B[38;5;124m\"\u001B[39m: \u001B[38;5;241m3\u001B[39m,\u001B[38;5;124m\"\u001B[39m\u001B[38;5;124mcancer\u001B[39m\u001B[38;5;124m\"\u001B[39m: \u001B[38;5;241m4\u001B[39m, \u001B[38;5;124m\"\u001B[39m\u001B[38;5;124miris_linear\u001B[39m\u001B[38;5;124m\"\u001B[39m: \u001B[38;5;241m5\u001B[39m, \u001B[38;5;124m\"\u001B[39m\u001B[38;5;124mmoon\u001B[39m\u001B[38;5;124m\"\u001B[39m: \u001B[38;5;241m6\u001B[39m, \u001B[38;5;124m\"\u001B[39m\u001B[38;5;124mretinamnist\u001B[39m\u001B[38;5;124m\"\u001B[39m: \u001B[38;5;241m7\u001B[39m}\n",
      "\u001B[1;31mModuleNotFoundError\u001B[0m: No module named 'QPNN'"
     ]
    }
   ],
   "execution_count": 5
  },
  {
   "cell_type": "code",
   "id": "246657f1",
   "metadata": {},
   "source": [
    "target_dataset=\"iris_linear\""
   ],
   "outputs": [],
   "execution_count": null
  },
  {
   "cell_type": "code",
   "id": "9c880749-9b5c-49c7-b9ae-83e74db7123e",
   "metadata": {},
   "source": [
    "def main(gpu=False):\n",
    "    x,xval,y,yval=get_dataset(dataset_list[target_dataset],split=True)\n",
    "    net=QPNN([5],x,y,xval,yval)#,\n",
    "    if not gpu:\n",
    "        net.device=\"cpu\"\n",
    "    net.train(wandb_verbose=False,verbose=True)"
   ],
   "outputs": [],
   "execution_count": null
  },
  {
   "cell_type": "code",
   "id": "bab2ffc1-bd37-4405-9edb-0a8bc1b52e8a",
   "metadata": {},
   "source": [
    "def generate_sweep_config():\n",
    "    wandb.login()\n",
    "    sweep_config = {'method': 'bayes'}\n",
    "    metric = {'name': 'loss','goal': 'minimize'}\n",
    "    sweep_config['metric'] = metric\n",
    "    parameters_dict = { 'epochs': {\n",
    "                            'values': [10,50,100,200]},\n",
    "                       'optimizer':{'values':[\"SGD\",\"ADAM\",\"ADAMW\",\"RMSPROP\"]},\n",
    "                        'arch_elements':{'values':[2,4,5,6,7,10]}\n",
    "                        }\n",
    "    sweep_config['parameters'] = parameters_dict\n",
    "    parameters_dict.update({\n",
    "        'learning_rate': {\n",
    "            # a flat distribution between 0 and 0.1\n",
    "            'distribution': 'uniform',\n",
    "            'min': 0,\n",
    "            'max': 0.9\n",
    "          },\n",
    "        'batch_size': {\n",
    "            # integers between 32 and 256\n",
    "            # with evenly-distributed logarithms \n",
    "            'distribution': 'q_log_uniform_values',\n",
    "            'q': 2,\n",
    "            'min': 8,\n",
    "            'max': 100,\n",
    "          }\n",
    "        })\n",
    "    pprint.pprint(sweep_config)\n",
    "    return sweep_config"
   ],
   "outputs": [],
   "execution_count": null
  },
  {
   "cell_type": "code",
   "id": "8f6477f8-c73e-4ef3-aa81-966926f25931",
   "metadata": {
    "scrolled": true
   },
   "source": [
    "sweep_id = wandb.sweep(sweep=generate_sweep_config(), entity='quantum_kets', project='QPNN_TRAIN_SWEEP_'+target_dataset)\n",
    "wandb.agent(sweep_id, function=main, count=200)"
   ],
   "outputs": [],
   "execution_count": null
  },
  {
   "cell_type": "code",
   "id": "cc15231c-605d-4761-9539-c61d998e9ffc",
   "metadata": {},
   "source": [],
   "outputs": [],
   "execution_count": null
  }
 ],
 "metadata": {
  "kernelspec": {
   "display_name": "Python 3 (ipykernel)",
   "language": "python",
   "name": "python3"
  },
  "language_info": {
   "codemirror_mode": {
    "name": "ipython",
    "version": 3
   },
   "file_extension": ".py",
   "mimetype": "text/x-python",
   "name": "python",
   "nbconvert_exporter": "python",
   "pygments_lexer": "ipython3",
   "version": "3.11.9"
  }
 },
 "nbformat": 4,
 "nbformat_minor": 5
}
