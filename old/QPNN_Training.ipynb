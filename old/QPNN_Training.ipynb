{
 "cells": [
  {
   "cell_type": "code",
   "execution_count": 265,
   "id": "5a52e20f-c460-4867-ab8b-c36f8cd71303",
   "metadata": {
    "jupyter": {
     "is_executing": true
    }
   },
   "outputs": [],
   "source": [
    "import numpy as np\n",
    "import torch \n",
    "\n",
    "import pennylane as qml\n",
    "from pennylane.operation import Operation, AnyWires\n",
    "import matplotlib.pyplot as plt\n",
    "import pennylane.numpy as np\n",
    "import numpy as np\n",
    "import pandas as pd\n",
    "from sklearn.datasets import *\n",
    "#import wandb\n",
    "from sklearn.preprocessing import OneHotEncoder,OrdinalEncoder, LabelEncoder\n",
    "from sklearn.model_selection import train_test_split\n",
    "import pprint\n",
    "from tqdm import tqdm\n",
    "dataset_list={\"iris\": 1,\"digits\": 2,\"wine\": 3,\"cancer\": 4, \"iris_linear\": 5, \"moon\": 6}\n",
    "s=0.1\n",
    "init_method=lambda x: torch.nn.init.uniform_(x,a=0.,b=s*np.pi)"
   ]
  },
  {
   "cell_type": "code",
   "execution_count": 266,
   "id": "fc33b482-d54b-407d-b615-243797a579fa",
   "metadata": {
    "jupyter": {
     "is_executing": true
    }
   },
   "outputs": [],
   "source": [
    "def stereo_pj(X):\n",
    "    n,m=np.shape(X)\n",
    "    newX=np.zeros((n,m+1))\n",
    "    for rowindex,x in enumerate(X):\n",
    "        s=np.sum(pow(x,2))\n",
    "        for index in range(m):\n",
    "            newX[rowindex,index]=2*x[index]/(s+1)\n",
    "        newX[rowindex,m]=(s-1)/(s+1)\n",
    "    return newX"
   ]
  },
  {
   "cell_type": "code",
   "execution_count": 267,
   "id": "459892a1-d1b3-4644-abe1-30c88b0d3c53",
   "metadata": {
    "ExecuteTime": {
     "end_time": "2024-06-27T22:38:39.056958Z",
     "start_time": "2024-06-27T22:38:39.043248Z"
    }
   },
   "outputs": [],
   "source": [
    "def get_dataset(index, split=True, split_percentage=0.33, standardization_mode=1):\n",
    "    \"\"\"\n",
    "    iris:          Load and return the iris dataset (classification).\n",
    "    digits:        Load and return the digits dataset (classification).\n",
    "    wine:          Load and return the wine dataset (classification).\n",
    "    breast_cancer: Load and return the breast cancer wisconsin dataset (classification).\n",
    "    \"\"\"\n",
    "    X=None\n",
    "    y=None\n",
    "    n_classes=None\n",
    "    print(\"Getting dataset: \",{i for i in dataset_list if dataset_list[i]==index})\n",
    "    match index:\n",
    "        case 1:\n",
    "            dataset=load_iris()\n",
    "            X = dataset.data\n",
    "            y = dataset.target\n",
    "            n_classes=len(np.unique(y))\n",
    "        case 2:\n",
    "            dataset=load_digits()#TODO: PCA\n",
    "            X = dataset.data\n",
    "            y = dataset.target\n",
    "            n_classes=len(np.unique(y))\n",
    "        case 3:\n",
    "            dataset=load_wine()\n",
    "            X = dataset.data\n",
    "            y = dataset.target\n",
    "            n_classes=len(np.unique(y))\n",
    "        case 4:\n",
    "            dataset=load_breast_cancer()\n",
    "            X = dataset.data\n",
    "            y = dataset.target\n",
    "            n_classes=len(np.unique(y))\n",
    "        case 5:\n",
    "            iris_data = load_iris()\n",
    "            iris_df = pd.DataFrame(data=iris_data['data'], columns=iris_data['feature_names'])\n",
    "            \n",
    "            iris_df['Iris type'] = iris_data['target']\n",
    "            iris_df = iris_df[iris_df[\"Iris type\"] != 2]\n",
    "            iris = iris_df.to_numpy()\n",
    "            \n",
    "            X = iris[:, :4]  # we only take the first two features.\n",
    "            y = np.ndarray.tolist(iris[:, 4].astype(int))\n",
    "            n_classes=len(np.unique(y))\n",
    "        case 6:\n",
    "            X, y = make_moons(n_samples=200, noise=0.1)\n",
    "            n_classes=len(np.unique(y))\n",
    "        case _:\n",
    "            raise Exception(\"Sorry, the dataset does not exist\")\n",
    "\n",
    "\n",
    "    match standardization_mode:\n",
    "        case 1:\n",
    "            X_mean, X_std=np.mean(X,axis=0), np.std(X,axis=0,ddof=1)\n",
    "            \n",
    "            X=(X-X_mean)/X_std\n",
    "            X=np.hstack((X,2.0*np.ones(X.shape[0])[:,None]))\n",
    "            X=np.array([np.clip(row/np.sqrt(np.sum(row**2)),-1,1) for row in X])\n",
    "        case 2:\n",
    "            X=stereo_pj(X)\n",
    "\n",
    "    y_hot=torch.zeros((len(y),n_classes),requires_grad=False)\n",
    "    for index,element in enumerate(y):\n",
    "        y_hot[index][element]=1\n",
    "\n",
    "    if split:\n",
    "        return train_test_split(X, y_hot, test_size=split_percentage, random_state=42)\n",
    "    else:\n",
    "        return X, y_hot\n"
   ]
  },
  {
   "cell_type": "code",
   "execution_count": 268,
   "id": "fdb899d1-dd9e-4638-8f4f-1d01ffa4c8c2",
   "metadata": {
    "ExecuteTime": {
     "end_time": "2024-06-27T22:38:39.113907Z",
     "start_time": "2024-06-27T22:38:39.108538Z"
    }
   },
   "outputs": [],
   "source": [
    "class RBSGate(Operation):\n",
    "    num_wires = 2  \n",
    "\n",
    "    def __init__(self, theta, wires, id=None):\n",
    "        all_wires = qml.wires.Wires(wires)\n",
    "        super().__init__(theta, wires=all_wires, id=id)\n",
    "\n",
    "    @staticmethod\n",
    "    def compute_decomposition(theta, wires):\n",
    "        decomp = [\n",
    "                qml.Hadamard(wires=wires[0]),\n",
    "                qml.Hadamard(wires=wires[1]),\n",
    "                qml.CZ(wires=wires),\n",
    "                qml.RY(theta/2.,wires=wires[0]),\n",
    "                qml.RY(-theta/2.,wires=wires[1]),\n",
    "                qml.CZ(wires=wires),\n",
    "                qml.Hadamard(wires=wires[0]),\n",
    "                qml.Hadamard(wires=wires[1])\n",
    "            ]\n",
    "        return decomp"
   ]
  },
  {
   "cell_type": "code",
   "execution_count": 341,
   "id": "198aeedf6090600b",
   "metadata": {
    "ExecuteTime": {
     "end_time": "2024-06-27T22:38:39.260934Z",
     "start_time": "2024-06-27T22:38:39.256142Z"
    }
   },
   "outputs": [],
   "source": [
    "class ProbsToUnaryLayer(torch.nn.Module):\n",
    "\n",
    "    def __init__(self, size_in):\n",
    "        super(ProbsToUnaryLayer, self).__init__()\n",
    "        self.size_q_in=size_in\n",
    "\n",
    "    def forward(self, input_var):\n",
    "       # print(\"probstounitary\")\n",
    "        #print(input_var)\n",
    "\n",
    "        filt = [2**i for i in range(self.size_q_in)]\n",
    "        #print(\"filtered: \",input_var[:, filt])\n",
    "        #input()\n",
    "        return input_var[:, filt]\n",
    "    \n",
    "class AmpsToAnglesLayer(torch.nn.Module):\n",
    "\n",
    "    def __init__(self, size_in):\n",
    "        super(AmpsToAnglesLayer, self).__init__()\n",
    "#        self.weight = torch.nn.Parameter(data=torch.Tensor(2,size_in-1), requires_grad=True)\n",
    "#        torch.nn.init.uniform_(self.weight,a=-s,b=s)\n",
    "\n",
    "    def forward(self, input_var):\n",
    "       # print(\"probstounitary\")\n",
    "\n",
    "        #print(\"filtered: \",input_var[:, filt])\n",
    "        #input()\n",
    "        #ret=self.weight[0]+self.weight[1]*torch.sqrt(input_var[:, filt]*12-6)\n",
    "        zeros = torch.zeros([input_var.shape[0], 1],requires_grad=False)\n",
    "        ps = torch.cat((zeros, input_var[:]**2), 1)\n",
    "#        print(self.weight)\n",
    "#        print(self.weight[0,:])\n",
    "#        print(torch.arccos(input_var[:,:-1]/torch.sqrt(1-torch.cumsum(ps,axis=1)[:,:-2])))\n",
    "        #print(self.weight[0,:].shape)\n",
    "        #print(torch.arccos(input_var[:,:-1]/torch.sqrt(1-torch.cumsum(ps,axis=1)[:,:-2])).shape)\n",
    "        #ret=torch.arccos(input_var[:,:-1]/torch.sqrt(1-torch.cumsum(ps,axis=1)[:,:-2]))\n",
    "        ret=torch.arccos(input_var[:,:-1]/torch.sqrt(1-torch.cumsum(ps,axis=1)[:,:-2]))\n",
    "        #print(ret,\"\\n\")\n",
    "        return ret\n",
    "    \n",
    "class AmpsToAnglesParLayer(torch.nn.Module):\n",
    "    def __init__(self, size_in):\n",
    "        super(AmpsToAnglesParLayer, self).__init__()\n",
    "        self.weight = torch.nn.Parameter(data=torch.Tensor(2,size_in-1), requires_grad=True)\n",
    "        torch.nn.init.uniform_(self.weight,a=-s,b=s)\n",
    "\n",
    "    def forward(self, input_var):\n",
    "       # print(\"probstounitary\")\n",
    "\n",
    "        #print(\"filtered: \",input_var[:, filt])\n",
    "        #input()\n",
    "        #ret=self.weight[0]+self.weight[1]*torch.sqrt(input_var[:, filt]*12-6)\n",
    "        zeros = torch.zeros([input_var.shape[0], 1],requires_grad=False)\n",
    "        ps = torch.cat((zeros, input_var[:]**2), 1)\n",
    "#        print(self.weight)\n",
    "#        print(self.weight[0,:])\n",
    "#        print(torch.arccos(input_var[:,:-1]/torch.sqrt(1-torch.cumsum(ps,axis=1)[:,:-2])))\n",
    "        #print(self.weight[0,:].shape)\n",
    "        #print(torch.arccos(input_var[:,:-1]/torch.sqrt(1-torch.cumsum(ps,axis=1)[:,:-2])).shape)\n",
    "        #ret=torch.arccos(input_var[:,:-1]/torch.sqrt(1-torch.cumsum(ps,axis=1)[:,:-2]))\n",
    "        ret=self.weight[0,:]+(1.+self.weight[1,:])*torch.arccos(input_var[:,:-1]/torch.sqrt(1-torch.cumsum(ps,axis=1)[:,:-2]))\n",
    "        #print(ret,\"\\n\")\n",
    "        return ret"
   ]
  },
  {
   "cell_type": "code",
   "execution_count": 360,
   "id": "1ec961f1",
   "metadata": {},
   "outputs": [],
   "source": [
    "lr=0.2\n",
    "batch_size=10\n",
    "epochs=50"
   ]
  },
  {
   "cell_type": "code",
   "execution_count": 361,
   "id": "3d9353cf-a588-4c95-927c-e4690e6858fc",
   "metadata": {
    "ExecuteTime": {
     "end_time": "2024-06-27T22:38:39.298399Z",
     "start_time": "2024-06-27T22:38:39.269387Z"
    }
   },
   "outputs": [],
   "source": [
    "class QPNN:\n",
    "    def __init__(self,structure,X,y,xval=None,yval=None):\n",
    "        self.X=X\n",
    "        self.y=y\n",
    "        self.xval=xval\n",
    "        self.yval=yval\n",
    "        self.architecture=[np.shape(X)[1]]+structure+[int((np.shape(y)[1]))]\n",
    "        print(self.architecture)\n",
    "        self.nqubits=np.max(self.architecture)\n",
    "        print(self.nqubits)\n",
    "        self.cuda=torch.cuda.is_available()\n",
    "        self.devs=[]\n",
    "        self.qnodes=[]\n",
    "        self.qlayers=[]\n",
    "        self.model_architecture=[]\n",
    "        self.model=None\n",
    "    \n",
    "    def init_model(self):\n",
    "        for layer in range(len(self.architecture)-1):\n",
    "            n_layers = 1\n",
    "            n_pars = int((2*self.architecture[layer]-1-self.architecture[layer+1])*(self.architecture[layer+1])/2)\n",
    "            \n",
    "            dev = qml.device(\"default.qubit\", wires=self.nqubits) #TODO: ADD CUDA\n",
    "            qnode = qml.QNode(self.probs_single, dev)\n",
    "            weight_shapes = {\"weights\": (n_layers, n_pars),\"weights_aux\":(self.architecture[layer],self.architecture[layer+1])}\n",
    "            qlayer = qml.qnn.TorchLayer(qnode, weight_shapes,init_method=init_method)#\n",
    "            self.devs.append(dev)\n",
    "            self.qnodes.append(qnode)\n",
    "            self.qlayers.append(qlayer)\n",
    "            self.model_architecture.append(AmpsToAnglesParLayer(self.architecture[layer]))\n",
    "            #self.model_architecture.append(torch.nn.Linear(self.architecture[layer],self.architecture[layer]))\n",
    "            self.model_architecture.append(qlayer)\n",
    "            self.model_architecture.append(ProbsToUnaryLayer(self.architecture[layer+1]))\n",
    "            #self.model_architecture.append(torch.nn.Softmax(dim=1))\n",
    "        self.model= torch.nn.Sequential(*self.model_architecture)\n",
    "        for index, x in enumerate(reversed(list(self.model.parameters()))):\n",
    "            if index%2==0:\n",
    "                x.requires_grad =False    \n",
    "        print(self.model)\n",
    "    \n",
    "    \n",
    "    def probs_single(self,inputs, weights,weights_aux):\n",
    "        shape=np.shape(weights_aux)\n",
    "        max_q=np.max(shape)\n",
    "        \n",
    "        q_base=max_q-shape[0]\n",
    "        qml.PauliX(wires=q_base)\n",
    "#        prd_fact=1.0\n",
    "        for qi_idx, qi in enumerate(range(max_q-shape[0],max_q-1)):\n",
    "\n",
    "#            theta_i=torch.arccos((torch.sqrt(inputs[...,qi_idx]))/prd_fact)\n",
    "#            prd_fact=prd_fact*torch.sin(theta_i)\n",
    "            RBSGate(inputs[...,qi_idx],wires=[qi,qi+1],id=f\"$\\\\alpha1_{{{{{qi}}}}}$\")\n",
    "\n",
    "        ctr=0\n",
    "        for ji,j in enumerate(range(max_q,max_q-shape[1],-1)):\n",
    "            for i in range(q_base-1-ji,q_base-1-ji+shape[0]):\n",
    "                if i<0:\n",
    "                    continue\n",
    "                RBSGate(weights[0][ctr],[i,i+1],id=f\"$\\\\theta1_{{{{{ctr}}}}}$\")\n",
    "                ctr+=1\n",
    "        return qml.probs(wires=range(max_q-shape[1],max_q))\n",
    "    \n",
    "    def predict(self, X):\n",
    "        X = torch.tensor(X, requires_grad=False).float()\n",
    "        return torch.argmax(self.model(X), dim=1).detach().numpy()\n",
    "    \n",
    "        \n",
    "    def train(self):\n",
    "        verbose=True\n",
    "#        wandb_verbose=True\n",
    "        self.init_model()\n",
    "#        run= wandb.init()\n",
    "\n",
    "        #opt = torch.optim.SGD(self.model.parameters(),lr=lr) #, lr=wandb.config.learning_rate)\n",
    "        opt = torch.optim.Adam(self.model.parameters(),lr=lr) #, lr=wandb.config.learning_rate)\n",
    "\n",
    "        loss = torch.nn.CrossEntropyLoss()\n",
    "        \n",
    "        X = torch.tensor(self.X, requires_grad=False).float()\n",
    "        y = torch.tensor(self.y, requires_grad=False).float()\n",
    "        if self.xval is not None:\n",
    "            Xval = torch.tensor(self.xval, requires_grad=False).float()\n",
    "            yval = torch.tensor(self.yval, requires_grad=False).float()\n",
    "\n",
    "#        batch_size = batch_size #wandb.config.batch_size\n",
    "        batches = len(y) // batch_size\n",
    "\n",
    "        data_loader = torch.utils.data.DataLoader(\n",
    "            list(zip(X, y)), batch_size=batch_size, shuffle=True, drop_last=True\n",
    "        )\n",
    "        \n",
    "        \n",
    "        for epoch in tqdm(range(epochs)): # wandb.config.epochs)):\n",
    "        \n",
    "            running_loss = 0\n",
    "            \n",
    "            for xs, ys in data_loader:\n",
    "                opt.zero_grad()\n",
    "                res=self.model(xs)\n",
    "                loss_evaluated = loss(res, ys)\n",
    "\n",
    "                loss_evaluated.backward()\n",
    "        \n",
    "                opt.step()\n",
    "        \n",
    "                running_loss += loss_evaluated\n",
    "        \n",
    "            avg_loss = running_loss / batches\n",
    "            if verbose: \n",
    "                print(\"Average loss over epoch {}: {:.4f}\".format(epoch + 1, avg_loss))\n",
    "            #VALIDATION\n",
    "            if self.xval is not None:\n",
    "                y_pred_val = self.model(Xval)\n",
    "                predictions_val = torch.argmax(y_pred_val, axis=1).detach().numpy()\n",
    "    \n",
    "                y_val_pos=torch.argmax(yval, axis=1).detach().numpy()\n",
    "                correct_val = [1 if p == p_true else 0 for p, p_true in zip(predictions_val, y_val_pos)]\n",
    "                accuracy_val = sum(correct_val) / len(correct_val)\n",
    "                if verbose:\n",
    "                    print(f\"Validation Accuracy: {accuracy_val * 100}%\")\n",
    "#                if wandb_verbose:\n",
    "#                    wandb.log({\"accuracy_validation\":accuracy_val * 100})\n",
    "\n",
    "        y_pred = self.model(X)\n",
    "        predictions = torch.argmax(y_pred, axis=1).detach().numpy()\n",
    "        truelabel=torch.argmax(y, axis=1).detach().numpy()\n",
    "\n",
    "        correct = [1 if p == p_true else 0 for p, p_true in zip(predictions, truelabel)]\n",
    "        accuracy = sum(correct) / len(correct)\n",
    "        print(f\"Accuracy: {accuracy * 100}%\")\n",
    "#        if wandb_verbose:\n",
    "#            wandb.log({\"accuracy\":accuracy * 100})"
   ]
  },
  {
   "cell_type": "code",
   "execution_count": 362,
   "id": "7ed54d15-2d9d-4f31-93ab-8d19608bda7a",
   "metadata": {
    "ExecuteTime": {
     "end_time": "2024-06-27T22:48:40.998170Z",
     "start_time": "2024-06-27T22:48:40.989447Z"
    }
   },
   "outputs": [],
   "source": [
    "def main():\n",
    "    x,y=get_dataset(1,split=False)\n",
    "    net=QPNN([5],x,y)\n",
    "    print(net.model)\n",
    "    net.train()"
   ]
  },
  {
   "cell_type": "code",
   "execution_count": 363,
   "id": "91179676",
   "metadata": {},
   "outputs": [
    {
     "name": "stderr",
     "output_type": "stream",
     "text": [
      "/tmp/ipykernel_270607/44000694.py:81: UserWarning: To copy construct from a tensor, it is recommended to use sourceTensor.clone().detach() or sourceTensor.clone().detach().requires_grad_(True), rather than torch.tensor(sourceTensor).\n",
      "  y = torch.tensor(self.y, requires_grad=False).float()\n"
     ]
    },
    {
     "name": "stdout",
     "output_type": "stream",
     "text": [
      "Getting dataset:  {'iris'}\n",
      "[5, 5, 3]\n",
      "5\n",
      "None\n",
      "Sequential(\n",
      "  (0): AmpsToAnglesParLayer()\n",
      "  (1): <Quantum Torch Layer: func=probs_single>\n",
      "  (2): ProbsToUnaryLayer()\n",
      "  (3): AmpsToAnglesParLayer()\n",
      "  (4): <Quantum Torch Layer: func=probs_single>\n",
      "  (5): ProbsToUnaryLayer()\n",
      ")\n"
     ]
    },
    {
     "name": "stderr",
     "output_type": "stream",
     "text": [
      "  2%|█▍                                                                   | 1/50 [00:01<01:18,  1.61s/it]"
     ]
    },
    {
     "name": "stdout",
     "output_type": "stream",
     "text": [
      "Average loss over epoch 1: 1.1049\n"
     ]
    },
    {
     "name": "stderr",
     "output_type": "stream",
     "text": [
      "\r",
      "  4%|██▊                                                                  | 2/50 [00:03<01:15,  1.57s/it]"
     ]
    },
    {
     "name": "stdout",
     "output_type": "stream",
     "text": [
      "Average loss over epoch 2: 1.0884\n"
     ]
    },
    {
     "name": "stderr",
     "output_type": "stream",
     "text": [
      "\r",
      "  6%|████▏                                                                | 3/50 [00:04<01:13,  1.56s/it]"
     ]
    },
    {
     "name": "stdout",
     "output_type": "stream",
     "text": [
      "Average loss over epoch 3: 1.0645\n"
     ]
    },
    {
     "name": "stderr",
     "output_type": "stream",
     "text": [
      "\r",
      "  8%|█████▌                                                               | 4/50 [00:06<01:11,  1.54s/it]"
     ]
    },
    {
     "name": "stdout",
     "output_type": "stream",
     "text": [
      "Average loss over epoch 4: 1.0567\n"
     ]
    },
    {
     "name": "stderr",
     "output_type": "stream",
     "text": [
      "\r",
      " 10%|██████▉                                                              | 5/50 [00:07<01:10,  1.57s/it]"
     ]
    },
    {
     "name": "stdout",
     "output_type": "stream",
     "text": [
      "Average loss over epoch 5: 1.0416\n"
     ]
    },
    {
     "name": "stderr",
     "output_type": "stream",
     "text": [
      "\r",
      " 12%|████████▎                                                            | 6/50 [00:09<01:08,  1.56s/it]"
     ]
    },
    {
     "name": "stdout",
     "output_type": "stream",
     "text": [
      "Average loss over epoch 6: 1.0356\n"
     ]
    },
    {
     "name": "stderr",
     "output_type": "stream",
     "text": [
      "\r",
      " 14%|█████████▋                                                           | 7/50 [00:10<01:07,  1.58s/it]"
     ]
    },
    {
     "name": "stdout",
     "output_type": "stream",
     "text": [
      "Average loss over epoch 7: 1.0316\n"
     ]
    },
    {
     "name": "stderr",
     "output_type": "stream",
     "text": [
      "\r",
      " 16%|███████████                                                          | 8/50 [00:12<01:06,  1.58s/it]"
     ]
    },
    {
     "name": "stdout",
     "output_type": "stream",
     "text": [
      "Average loss over epoch 8: 1.0202\n"
     ]
    },
    {
     "name": "stderr",
     "output_type": "stream",
     "text": [
      "\r",
      " 18%|████████████▍                                                        | 9/50 [00:14<01:05,  1.60s/it]"
     ]
    },
    {
     "name": "stdout",
     "output_type": "stream",
     "text": [
      "Average loss over epoch 9: 1.0243\n"
     ]
    },
    {
     "name": "stderr",
     "output_type": "stream",
     "text": [
      "\r",
      " 20%|█████████████▌                                                      | 10/50 [00:15<01:03,  1.60s/it]"
     ]
    },
    {
     "name": "stdout",
     "output_type": "stream",
     "text": [
      "Average loss over epoch 10: 1.0305\n"
     ]
    },
    {
     "name": "stderr",
     "output_type": "stream",
     "text": [
      "\r",
      " 22%|██████████████▉                                                     | 11/50 [00:17<01:02,  1.61s/it]"
     ]
    },
    {
     "name": "stdout",
     "output_type": "stream",
     "text": [
      "Average loss over epoch 11: 1.0295\n"
     ]
    },
    {
     "name": "stderr",
     "output_type": "stream",
     "text": [
      "\r",
      " 24%|████████████████▎                                                   | 12/50 [00:19<01:02,  1.65s/it]"
     ]
    },
    {
     "name": "stdout",
     "output_type": "stream",
     "text": [
      "Average loss over epoch 12: 1.0127\n"
     ]
    },
    {
     "name": "stderr",
     "output_type": "stream",
     "text": [
      "\r",
      " 26%|█████████████████▋                                                  | 13/50 [00:20<00:59,  1.62s/it]"
     ]
    },
    {
     "name": "stdout",
     "output_type": "stream",
     "text": [
      "Average loss over epoch 13: 1.0284\n"
     ]
    },
    {
     "name": "stderr",
     "output_type": "stream",
     "text": [
      "\r",
      " 28%|███████████████████                                                 | 14/50 [00:22<00:59,  1.64s/it]"
     ]
    },
    {
     "name": "stdout",
     "output_type": "stream",
     "text": [
      "Average loss over epoch 14: 1.0192\n"
     ]
    },
    {
     "name": "stderr",
     "output_type": "stream",
     "text": [
      "\r",
      " 30%|████████████████████▍                                               | 15/50 [00:24<00:57,  1.63s/it]"
     ]
    },
    {
     "name": "stdout",
     "output_type": "stream",
     "text": [
      "Average loss over epoch 15: 1.0385\n"
     ]
    },
    {
     "name": "stderr",
     "output_type": "stream",
     "text": [
      "\r",
      " 32%|█████████████████████▊                                              | 16/50 [00:25<00:55,  1.62s/it]"
     ]
    },
    {
     "name": "stdout",
     "output_type": "stream",
     "text": [
      "Average loss over epoch 16: 1.0173\n"
     ]
    },
    {
     "name": "stderr",
     "output_type": "stream",
     "text": [
      "\r",
      " 34%|███████████████████████                                             | 17/50 [00:27<00:54,  1.65s/it]"
     ]
    },
    {
     "name": "stdout",
     "output_type": "stream",
     "text": [
      "Average loss over epoch 17: 1.0105\n"
     ]
    },
    {
     "name": "stderr",
     "output_type": "stream",
     "text": [
      "\r",
      " 36%|████████████████████████▍                                           | 18/50 [00:28<00:52,  1.64s/it]"
     ]
    },
    {
     "name": "stdout",
     "output_type": "stream",
     "text": [
      "Average loss over epoch 18: 1.0184\n"
     ]
    },
    {
     "name": "stderr",
     "output_type": "stream",
     "text": [
      "\r",
      " 38%|█████████████████████████▊                                          | 19/50 [00:30<00:50,  1.64s/it]"
     ]
    },
    {
     "name": "stdout",
     "output_type": "stream",
     "text": [
      "Average loss over epoch 19: 1.0157\n"
     ]
    },
    {
     "name": "stderr",
     "output_type": "stream",
     "text": [
      "\r",
      " 40%|███████████████████████████▏                                        | 20/50 [00:32<00:49,  1.66s/it]"
     ]
    },
    {
     "name": "stdout",
     "output_type": "stream",
     "text": [
      "Average loss over epoch 20: 1.0088\n"
     ]
    },
    {
     "name": "stderr",
     "output_type": "stream",
     "text": [
      "\r",
      " 42%|████████████████████████████▌                                       | 21/50 [00:33<00:47,  1.63s/it]"
     ]
    },
    {
     "name": "stdout",
     "output_type": "stream",
     "text": [
      "Average loss over epoch 21: 1.0180\n"
     ]
    },
    {
     "name": "stderr",
     "output_type": "stream",
     "text": [
      "\r",
      " 44%|█████████████████████████████▉                                      | 22/50 [00:35<00:44,  1.61s/it]"
     ]
    },
    {
     "name": "stdout",
     "output_type": "stream",
     "text": [
      "Average loss over epoch 22: 0.9827\n"
     ]
    },
    {
     "name": "stderr",
     "output_type": "stream",
     "text": [
      "\r",
      " 46%|███████████████████████████████▎                                    | 23/50 [00:37<00:43,  1.60s/it]"
     ]
    },
    {
     "name": "stdout",
     "output_type": "stream",
     "text": [
      "Average loss over epoch 23: 0.9715\n"
     ]
    },
    {
     "name": "stderr",
     "output_type": "stream",
     "text": [
      "\r",
      " 48%|████████████████████████████████▋                                   | 24/50 [00:38<00:41,  1.61s/it]"
     ]
    },
    {
     "name": "stdout",
     "output_type": "stream",
     "text": [
      "Average loss over epoch 24: 0.9471\n"
     ]
    },
    {
     "name": "stderr",
     "output_type": "stream",
     "text": [
      "\r",
      " 50%|██████████████████████████████████                                  | 25/50 [00:40<00:39,  1.60s/it]"
     ]
    },
    {
     "name": "stdout",
     "output_type": "stream",
     "text": [
      "Average loss over epoch 25: 0.9295\n"
     ]
    },
    {
     "name": "stderr",
     "output_type": "stream",
     "text": [
      "\r",
      " 52%|███████████████████████████████████▎                                | 26/50 [00:42<00:41,  1.75s/it]"
     ]
    },
    {
     "name": "stdout",
     "output_type": "stream",
     "text": [
      "Average loss over epoch 26: 0.9213\n"
     ]
    },
    {
     "name": "stderr",
     "output_type": "stream",
     "text": [
      "\r",
      " 54%|████████████████████████████████████▋                               | 27/50 [00:43<00:39,  1.72s/it]"
     ]
    },
    {
     "name": "stdout",
     "output_type": "stream",
     "text": [
      "Average loss over epoch 27: 0.9191\n"
     ]
    },
    {
     "name": "stderr",
     "output_type": "stream",
     "text": [
      "\r",
      " 56%|██████████████████████████████████████                              | 28/50 [00:45<00:36,  1.68s/it]"
     ]
    },
    {
     "name": "stdout",
     "output_type": "stream",
     "text": [
      "Average loss over epoch 28: 0.9137\n"
     ]
    },
    {
     "name": "stderr",
     "output_type": "stream",
     "text": [
      "\r",
      " 58%|███████████████████████████████████████▍                            | 29/50 [00:47<00:34,  1.65s/it]"
     ]
    },
    {
     "name": "stdout",
     "output_type": "stream",
     "text": [
      "Average loss over epoch 29: 0.9165\n"
     ]
    },
    {
     "name": "stderr",
     "output_type": "stream",
     "text": [
      "\r",
      " 60%|████████████████████████████████████████▊                           | 30/50 [00:48<00:33,  1.69s/it]"
     ]
    },
    {
     "name": "stdout",
     "output_type": "stream",
     "text": [
      "Average loss over epoch 30: 0.9170\n"
     ]
    },
    {
     "name": "stderr",
     "output_type": "stream",
     "text": [
      "\r",
      " 62%|██████████████████████████████████████████▏                         | 31/50 [00:50<00:32,  1.69s/it]"
     ]
    },
    {
     "name": "stdout",
     "output_type": "stream",
     "text": [
      "Average loss over epoch 31: 0.9152\n"
     ]
    },
    {
     "name": "stderr",
     "output_type": "stream",
     "text": [
      "\r",
      " 64%|███████████████████████████████████████████▌                        | 32/50 [00:52<00:30,  1.67s/it]"
     ]
    },
    {
     "name": "stdout",
     "output_type": "stream",
     "text": [
      "Average loss over epoch 32: 0.9133\n"
     ]
    },
    {
     "name": "stderr",
     "output_type": "stream",
     "text": [
      "\r",
      " 66%|████████████████████████████████████████████▉                       | 33/50 [00:53<00:28,  1.68s/it]"
     ]
    },
    {
     "name": "stdout",
     "output_type": "stream",
     "text": [
      "Average loss over epoch 33: 0.9216\n"
     ]
    },
    {
     "name": "stderr",
     "output_type": "stream",
     "text": [
      "\r",
      " 68%|██████████████████████████████████████████████▏                     | 34/50 [00:55<00:27,  1.71s/it]"
     ]
    },
    {
     "name": "stdout",
     "output_type": "stream",
     "text": [
      "Average loss over epoch 34: 0.9035\n"
     ]
    },
    {
     "name": "stderr",
     "output_type": "stream",
     "text": [
      "\r",
      " 70%|███████████████████████████████████████████████▌                    | 35/50 [00:57<00:25,  1.71s/it]"
     ]
    },
    {
     "name": "stdout",
     "output_type": "stream",
     "text": [
      "Average loss over epoch 35: 0.9023\n"
     ]
    },
    {
     "name": "stderr",
     "output_type": "stream",
     "text": [
      "\r",
      " 72%|████████████████████████████████████████████████▉                   | 36/50 [00:59<00:23,  1.70s/it]"
     ]
    },
    {
     "name": "stdout",
     "output_type": "stream",
     "text": [
      "Average loss over epoch 36: 0.9081\n"
     ]
    },
    {
     "name": "stderr",
     "output_type": "stream",
     "text": [
      "\r",
      " 74%|██████████████████████████████████████████████████▎                 | 37/50 [01:00<00:22,  1.69s/it]"
     ]
    },
    {
     "name": "stdout",
     "output_type": "stream",
     "text": [
      "Average loss over epoch 37: 0.9119\n"
     ]
    },
    {
     "name": "stderr",
     "output_type": "stream",
     "text": [
      "\r",
      " 76%|███████████████████████████████████████████████████▋                | 38/50 [01:02<00:20,  1.71s/it]"
     ]
    },
    {
     "name": "stdout",
     "output_type": "stream",
     "text": [
      "Average loss over epoch 38: 0.9154\n"
     ]
    },
    {
     "name": "stderr",
     "output_type": "stream",
     "text": [
      "\r",
      " 78%|█████████████████████████████████████████████████████               | 39/50 [01:04<00:18,  1.72s/it]"
     ]
    },
    {
     "name": "stdout",
     "output_type": "stream",
     "text": [
      "Average loss over epoch 39: 0.9391\n"
     ]
    },
    {
     "name": "stderr",
     "output_type": "stream",
     "text": [
      "\r",
      " 80%|██████████████████████████████████████████████████████▍             | 40/50 [01:05<00:16,  1.69s/it]"
     ]
    },
    {
     "name": "stdout",
     "output_type": "stream",
     "text": [
      "Average loss over epoch 40: 0.9385\n"
     ]
    },
    {
     "name": "stderr",
     "output_type": "stream",
     "text": [
      "\r",
      " 82%|███████████████████████████████████████████████████████▊            | 41/50 [01:07<00:15,  1.67s/it]"
     ]
    },
    {
     "name": "stdout",
     "output_type": "stream",
     "text": [
      "Average loss over epoch 41: 0.9067\n"
     ]
    },
    {
     "name": "stderr",
     "output_type": "stream",
     "text": [
      "\r",
      " 84%|█████████████████████████████████████████████████████████           | 42/50 [01:09<00:13,  1.65s/it]"
     ]
    },
    {
     "name": "stdout",
     "output_type": "stream",
     "text": [
      "Average loss over epoch 42: 0.9182\n"
     ]
    },
    {
     "name": "stderr",
     "output_type": "stream",
     "text": [
      "\r",
      " 86%|██████████████████████████████████████████████████████████▍         | 43/50 [01:10<00:11,  1.65s/it]"
     ]
    },
    {
     "name": "stdout",
     "output_type": "stream",
     "text": [
      "Average loss over epoch 43: 0.9066\n"
     ]
    },
    {
     "name": "stderr",
     "output_type": "stream",
     "text": [
      "\r",
      " 88%|███████████████████████████████████████████████████████████▊        | 44/50 [01:12<00:09,  1.64s/it]"
     ]
    },
    {
     "name": "stdout",
     "output_type": "stream",
     "text": [
      "Average loss over epoch 44: 0.9040\n"
     ]
    },
    {
     "name": "stderr",
     "output_type": "stream",
     "text": [
      "\r",
      " 90%|█████████████████████████████████████████████████████████████▏      | 45/50 [01:14<00:08,  1.64s/it]"
     ]
    },
    {
     "name": "stdout",
     "output_type": "stream",
     "text": [
      "Average loss over epoch 45: 0.9010\n"
     ]
    },
    {
     "name": "stderr",
     "output_type": "stream",
     "text": [
      "\r",
      " 92%|██████████████████████████████████████████████████████████████▌     | 46/50 [01:15<00:06,  1.63s/it]"
     ]
    },
    {
     "name": "stdout",
     "output_type": "stream",
     "text": [
      "Average loss over epoch 46: 0.9127\n"
     ]
    },
    {
     "name": "stderr",
     "output_type": "stream",
     "text": [
      "\r",
      " 94%|███████████████████████████████████████████████████████████████▉    | 47/50 [01:17<00:04,  1.64s/it]"
     ]
    },
    {
     "name": "stdout",
     "output_type": "stream",
     "text": [
      "Average loss over epoch 47: 0.9104\n"
     ]
    },
    {
     "name": "stderr",
     "output_type": "stream",
     "text": [
      "\r",
      " 96%|█████████████████████████████████████████████████████████████████▎  | 48/50 [01:18<00:03,  1.63s/it]"
     ]
    },
    {
     "name": "stdout",
     "output_type": "stream",
     "text": [
      "Average loss over epoch 48: 0.9207\n"
     ]
    },
    {
     "name": "stderr",
     "output_type": "stream",
     "text": [
      "\r",
      " 98%|██████████████████████████████████████████████████████████████████▋ | 49/50 [01:20<00:01,  1.62s/it]"
     ]
    },
    {
     "name": "stdout",
     "output_type": "stream",
     "text": [
      "Average loss over epoch 49: 0.9093\n"
     ]
    },
    {
     "name": "stderr",
     "output_type": "stream",
     "text": [
      "100%|████████████████████████████████████████████████████████████████████| 50/50 [01:22<00:00,  1.64s/it]"
     ]
    },
    {
     "name": "stdout",
     "output_type": "stream",
     "text": [
      "Average loss over epoch 50: 0.9161\n",
      "Accuracy: 91.33333333333333%\n"
     ]
    },
    {
     "name": "stderr",
     "output_type": "stream",
     "text": [
      "\n"
     ]
    }
   ],
   "source": [
    "main()"
   ]
  },
  {
   "cell_type": "code",
   "execution_count": 232,
   "id": "e4899da4-0ae8-4d61-8d88-952bae606f12",
   "metadata": {
    "ExecuteTime": {
     "end_time": "2024-06-27T22:53:44.383519Z",
     "start_time": "2024-06-27T22:53:41.229782Z"
    }
   },
   "outputs": [
    {
     "name": "stdout",
     "output_type": "stream",
     "text": [
      "{'method': 'random',\n",
      " 'metric': {'goal': 'minimize', 'name': 'loss'},\n",
      " 'parameters': {'batch_size': {'distribution': 'q_log_uniform_values',\n",
      "                               'max': 128,\n",
      "                               'min': 2,\n",
      "                               'q': 6},\n",
      "                'epochs': {'values': [10, 50, 100, 1000]},\n",
      "                'learning_rate': {'distribution': 'uniform',\n",
      "                                  'max': 0.9,\n",
      "                                  'min': 0}}}\n"
     ]
    }
   ],
   "source": [
    "#wandb.login()\n",
    "sweep_config = {'method': 'random'}\n",
    "metric = {'name': 'loss','goal': 'minimize'}\n",
    "sweep_config['metric'] = metric\n",
    "parameters_dict = { 'epochs': {\n",
    "                        'values': [10,50,100,1000]},\n",
    "                    }\n",
    "sweep_config['parameters'] = parameters_dict\n",
    "parameters_dict.update({\n",
    "    'learning_rate': {\n",
    "        # a flat distribution between 0 and 0.1\n",
    "        'distribution': 'uniform',\n",
    "        'min': 0,\n",
    "        'max': 0.9\n",
    "      },\n",
    "    'batch_size': {\n",
    "        # integers between 32 and 256\n",
    "        # with evenly-distributed logarithms \n",
    "        'distribution': 'q_log_uniform_values',\n",
    "        'q': 6,\n",
    "        'min': 2,\n",
    "        'max': 128,\n",
    "      }\n",
    "    })\n",
    "pprint.pprint(sweep_config)"
   ]
  },
  {
   "cell_type": "code",
   "execution_count": 12,
   "id": "9ad455968e4ae9e4",
   "metadata": {
    "ExecuteTime": {
     "end_time": "2024-06-27T22:53:53.042251Z",
     "start_time": "2024-06-27T22:53:52.481208Z"
    }
   },
   "outputs": [],
   "source": [
    "#sweep_id = wandb.sweep(sweep=sweep_config, entity='quantum_kets', project='QPNNTRAINSWEEP_iris_linear')"
   ]
  },
  {
   "cell_type": "code",
   "execution_count": 13,
   "id": "acf3483baec4daa6",
   "metadata": {
    "ExecuteTime": {
     "end_time": "2024-06-27T22:54:26.861804Z",
     "start_time": "2024-06-27T22:53:54.666884Z"
    }
   },
   "outputs": [],
   "source": [
    "#wandb.agent(sweep_id, function=main, count=30)"
   ]
  },
  {
   "cell_type": "markdown",
   "id": "898585fc-badc-4d9e-9c2c-57cfff8e5428",
   "metadata": {},
   "source": [
    "Aggiungere roba nello sweep: ottimizzatore, structure ecc,dataset\n",
    "controllare xval,yval che danno fastidio a struct\n",
    "usare bayesian\n",
    "controllare perche ogni tanto batchsize diventa zero"
   ]
  },
  {
   "cell_type": "code",
   "execution_count": null,
   "id": "a5441e16-681b-4060-b6a4-54d33bd33cd4",
   "metadata": {},
   "outputs": [],
   "source": []
  }
 ],
 "metadata": {
  "kernelspec": {
   "display_name": "Python 3 (ipykernel)",
   "language": "python",
   "name": "python3"
  },
  "language_info": {
   "codemirror_mode": {
    "name": "ipython",
    "version": 3
   },
   "file_extension": ".py",
   "mimetype": "text/x-python",
   "name": "python",
   "nbconvert_exporter": "python",
   "pygments_lexer": "ipython3",
   "version": "3.10.12"
  }
 },
 "nbformat": 4,
 "nbformat_minor": 5
}
