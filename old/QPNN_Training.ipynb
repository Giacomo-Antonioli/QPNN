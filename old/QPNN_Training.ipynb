{
 "cells": [
  {
   "cell_type": "code",
   "execution_count": 1,
   "id": "5a52e20f-c460-4867-ab8b-c36f8cd71303",
   "metadata": {
    "jupyter": {
     "is_executing": true
    }
   },
   "outputs": [],
   "source": [
    "import numpy as np\n",
    "import torch \n",
    "\n",
    "import pennylane as qml\n",
    "from pennylane.operation import Operation, AnyWires\n",
    "import matplotlib.pyplot as plt\n",
    "import pennylane.numpy as np\n",
    "import numpy as np\n",
    "import pandas as pd\n",
    "from sklearn.datasets import *\n",
    "import wandb\n",
    "from sklearn.preprocessing import OneHotEncoder,OrdinalEncoder, LabelEncoder\n",
    "from sklearn.model_selection import train_test_split\n",
    "import pprint\n",
    "from tqdm import tqdm\n",
    "dataset_list={\"iris\": 1,\"digits\": 2,\"wine\": 3,\"cancer\": 4, \"iris_linear\": 5, \"moon\": 6}\n",
    "s=0.05\n",
    "init_method=lambda x: torch.nn.init.uniform_(x,a=0.,b=s*np.pi)"
   ]
  },
  {
   "cell_type": "code",
   "execution_count": 2,
   "id": "fc33b482-d54b-407d-b615-243797a579fa",
   "metadata": {
    "jupyter": {
     "is_executing": true
    }
   },
   "outputs": [],
   "source": [
    "def stereo_pj(X):\n",
    "    n,m=np.shape(X)\n",
    "    newX=np.zeros((n,m+1))\n",
    "    for rowindex,x in enumerate(X):\n",
    "        s=np.sum(pow(x,2))\n",
    "        for index in range(m):\n",
    "            newX[rowindex,index]=2*x[index]/(s+1)\n",
    "        newX[rowindex,m]=(s-1)/(s+1)\n",
    "    return newX"
   ]
  },
  {
   "cell_type": "code",
   "execution_count": 3,
   "id": "459892a1-d1b3-4644-abe1-30c88b0d3c53",
   "metadata": {
    "ExecuteTime": {
     "end_time": "2024-06-27T22:38:39.056958Z",
     "start_time": "2024-06-27T22:38:39.043248Z"
    }
   },
   "outputs": [],
   "source": [
    "def get_dataset(index, split=True, split_percentage=0.33, standardization_mode=1):\n",
    "    \"\"\"\n",
    "    iris:          Load and return the iris dataset (classification).\n",
    "    digits:        Load and return the digits dataset (classification).\n",
    "    wine:          Load and return the wine dataset (classification).\n",
    "    breast_cancer: Load and return the breast cancer wisconsin dataset (classification).\n",
    "    \"\"\"\n",
    "    X=None\n",
    "    y=None\n",
    "    n_classes=None\n",
    "    print(\"Getting dataset: \",{i for i in dataset_list if dataset_list[i]==index})\n",
    "    match index:\n",
    "        case 1:\n",
    "            dataset=load_iris()\n",
    "            X = dataset.data\n",
    "            y = dataset.target\n",
    "            n_classes=len(np.unique(y))\n",
    "        case 2:\n",
    "            dataset=load_digits()#TODO: PCA\n",
    "            X = dataset.data\n",
    "            y = dataset.target\n",
    "            n_classes=len(np.unique(y))\n",
    "        case 3:\n",
    "            dataset=load_wine()\n",
    "            X = dataset.data\n",
    "            y = dataset.target\n",
    "            n_classes=len(np.unique(y))\n",
    "        case 4:\n",
    "            dataset=load_breast_cancer()\n",
    "            X = dataset.data\n",
    "            y = dataset.target\n",
    "            n_classes=len(np.unique(y))\n",
    "        case 5:\n",
    "            iris_data = load_iris()\n",
    "            iris_df = pd.DataFrame(data=iris_data['data'], columns=iris_data['feature_names'])\n",
    "            \n",
    "            iris_df['Iris type'] = iris_data['target']\n",
    "            iris_df = iris_df[iris_df[\"Iris type\"] != 2]\n",
    "            iris = iris_df.to_numpy()\n",
    "            \n",
    "            X = iris[:, :4]  # we only take the first two features.\n",
    "            y = np.ndarray.tolist(iris[:, 4].astype(int))\n",
    "            n_classes=len(np.unique(y))\n",
    "        case 6:\n",
    "            X, y = make_moons(n_samples=200, noise=0.1)\n",
    "            n_classes=len(np.unique(y))\n",
    "        case _:\n",
    "            raise Exception(\"Sorry, the dataset does not exist\")\n",
    "\n",
    "\n",
    "    match standardization_mode:\n",
    "        case 1:\n",
    "            X_mean, X_std=np.mean(X,axis=0), np.std(X,axis=0,ddof=1)\n",
    "            \n",
    "            X=(X-X_mean)/X_std\n",
    "            X=np.hstack((X,2.0*np.ones(X.shape[0])[:,None]))\n",
    "            X=np.array([np.clip(row/np.sqrt(np.sum(row**2)),-1,1) for row in X])\n",
    "        case 2:\n",
    "            X=stereo_pj(X)\n",
    "\n",
    "    y_hot=torch.zeros((len(y),n_classes),requires_grad=False)\n",
    "    for index,element in enumerate(y):\n",
    "        y_hot[index][element]=1\n",
    "\n",
    "    if split:\n",
    "        return train_test_split(X, y_hot, test_size=split_percentage, random_state=42)\n",
    "    else:\n",
    "        return X, y_hot\n"
   ]
  },
  {
   "cell_type": "code",
   "execution_count": 4,
   "id": "fdb899d1-dd9e-4638-8f4f-1d01ffa4c8c2",
   "metadata": {
    "ExecuteTime": {
     "end_time": "2024-06-27T22:38:39.113907Z",
     "start_time": "2024-06-27T22:38:39.108538Z"
    }
   },
   "outputs": [],
   "source": [
    "class RBSGate(Operation):\n",
    "    num_wires = 2  \n",
    "\n",
    "    def __init__(self, theta, wires, id=None):\n",
    "        all_wires = qml.wires.Wires(wires)\n",
    "        super().__init__(theta, wires=all_wires, id=id)\n",
    "\n",
    "    @staticmethod\n",
    "    def compute_decomposition(theta, wires):\n",
    "        decomp = [\n",
    "                qml.Hadamard(wires=wires[0]),\n",
    "                qml.Hadamard(wires=wires[1]),\n",
    "                qml.CZ(wires=wires),\n",
    "                qml.RY(theta/2.,wires=wires[0]),\n",
    "                qml.RY(-theta/2.,wires=wires[1]),\n",
    "                qml.CZ(wires=wires),\n",
    "                qml.Hadamard(wires=wires[0]),\n",
    "                qml.Hadamard(wires=wires[1])\n",
    "            ]\n",
    "        return decomp"
   ]
  },
  {
   "cell_type": "code",
   "execution_count": 5,
   "id": "198aeedf6090600b",
   "metadata": {
    "ExecuteTime": {
     "end_time": "2024-06-27T22:38:39.260934Z",
     "start_time": "2024-06-27T22:38:39.256142Z"
    }
   },
   "outputs": [],
   "source": [
    "class ProbsToUnaryLayer(torch.nn.Module):\n",
    "\n",
    "    def __init__(self, size_in):\n",
    "        super(ProbsToUnaryLayer, self).__init__()\n",
    "        self.size_q_in=size_in\n",
    "\n",
    "    def forward(self, input_var):\n",
    "       # print(\"probstounitary\")\n",
    "        #print(input_var)\n",
    "\n",
    "        filt = [2**i for i in range(self.size_q_in)]\n",
    "        #print(\"filtered: \",input_var[:, filt])\n",
    "        #input()\n",
    "        return input_var[:, filt]*12-6"
   ]
  },
  {
   "cell_type": "code",
   "execution_count": 6,
   "id": "3d9353cf-a588-4c95-927c-e4690e6858fc",
   "metadata": {
    "ExecuteTime": {
     "end_time": "2024-06-27T22:38:39.298399Z",
     "start_time": "2024-06-27T22:38:39.269387Z"
    }
   },
   "outputs": [],
   "source": [
    "class QPNN:\n",
    "    def __init__(self,structure,X,y,xval=None,yval=None):\n",
    "        self.X=X\n",
    "        self.y=y\n",
    "        self.xval=xval\n",
    "        self.yval=yval\n",
    "        self.architecture=[np.shape(X)[1]]+structure+[int((np.shape(y)[1]))]\n",
    "        print(self.architecture)\n",
    "        self.nqubits=np.max(self.architecture)\n",
    "        print(self.nqubits)\n",
    "        self.cuda=torch.cuda.is_available()\n",
    "        self.devs=[]\n",
    "        self.qnodes=[]\n",
    "        self.qlayers=[]\n",
    "        self.model_architecture=[]\n",
    "        self.model=None\n",
    "        \n",
    "        \n",
    "        \n",
    "        \n",
    "        \n",
    "\n",
    "    \n",
    "    def init_model(self):\n",
    "        for layer in range(len(self.architecture)-1):\n",
    "            n_layers = 1\n",
    "            n_pars = int((2*self.architecture[layer]-1-self.architecture[layer+1])*(self.architecture[layer+1])/2)\n",
    "            \n",
    "            dev = qml.device(\"default.qubit\", wires=self.nqubits) #TODO: ADD CUDA\n",
    "            qnode = qml.QNode(self.probs_single, dev)\n",
    "            weight_shapes = {\"weights\": (n_layers, n_pars),\"weights_aux\":(self.architecture[layer],self.architecture[layer+1])}\n",
    "            qlayer = qml.qnn.TorchLayer(qnode, weight_shapes,init_method=init_method)#\n",
    "            self.devs.append(dev)\n",
    "            self.qnodes.append(qnode)\n",
    "            self.qlayers.append(qlayer)\n",
    "            self.model_architecture.append(qlayer)\n",
    "            self.model_architecture.append(ProbsToUnaryLayer(self.architecture[layer+1]))\n",
    "            self.model_architecture.append(torch.nn.Softmax(dim=1))\n",
    "            self.model= torch.nn.Sequential(*self.model_architecture)\n",
    "            for index,x in  enumerate(reversed(list(self.model.parameters()))):\n",
    "                if index%2==0:\n",
    "                    x.requires_grad =False    \n",
    "    \n",
    "    \n",
    "        \n",
    "        \n",
    "        \n",
    "    def probs_single(self,inputs, weights,weights_aux):\n",
    "        shape=np.shape(weights_aux)\n",
    "        max_q=np.max(shape)\n",
    "        \n",
    "        q_base=max_q-shape[0]\n",
    "        qml.PauliX(wires=q_base)\n",
    "        prd_fact=1.0\n",
    "        for qi_idx, qi in enumerate(range(max_q-shape[0],max_q-1)):\n",
    "\n",
    "            theta_i=torch.arccos((inputs[...,qi_idx])/prd_fact)\n",
    "            prd_fact=prd_fact*torch.sin(theta_i)\n",
    "            RBSGate(theta_i,wires=[qi,qi+1],id=f\"$\\\\alpha1_{{{{{qi}}}}}$\")\n",
    "\n",
    "        ctr=0\n",
    "        for ji,j in enumerate(range(max_q,max_q-shape[1],-1)):\n",
    "            for i in range(q_base-1-ji,q_base-1-ji+shape[0]):\n",
    "                if i<0:\n",
    "                    continue\n",
    "                RBSGate(weights[0][ctr],[i,i+1],id=f\"$\\\\theta1_{{{{{ctr}}}}}$\")\n",
    "                ctr+=1\n",
    "        return qml.probs(wires=range(max_q-shape[1],max_q))\n",
    "    \n",
    "    def predict(self, X):\n",
    "        X = torch.tensor(X, requires_grad=False).float()\n",
    "        return torch.argmax(self.model(X), dim=1).detach().numpy()\n",
    "    \n",
    "        \n",
    "    def train(self):\n",
    "        verbose=True\n",
    "        wandb_verbose=True\n",
    "        self.init_model()\n",
    "        run= wandb.init()\n",
    "\n",
    "        opt = torch.optim.SGD(self.model.parameters(), lr=wandb.config.learning_rate)\n",
    "\n",
    "        loss = torch.nn.CrossEntropyLoss()\n",
    "        \n",
    "        X = torch.tensor(self.X, requires_grad=False).float()\n",
    "        y = torch.tensor(self.y, requires_grad=False).float()\n",
    "        if self.xval is not None:\n",
    "            Xval = torch.tensor(self.xval, requires_grad=False).float()\n",
    "            yval = torch.tensor(self.yval, requires_grad=False).float()\n",
    "\n",
    "        batch_size = wandb.config.batch_size\n",
    "        batches = len(y) // batch_size\n",
    "\n",
    "        data_loader = torch.utils.data.DataLoader(\n",
    "            list(zip(X, y)), batch_size=batch_size, shuffle=True, drop_last=True\n",
    "        )\n",
    "        \n",
    "        \n",
    "        for epoch in tqdm(range(wandb.config.epochs)):\n",
    "        \n",
    "            running_loss = 0\n",
    "            \n",
    "            for xs, ys in data_loader:\n",
    "                opt.zero_grad()\n",
    "                res=self.model(xs)\n",
    "                loss_evaluated = loss(res, ys)\n",
    "\n",
    "                loss_evaluated.backward()\n",
    "        \n",
    "                opt.step()\n",
    "        \n",
    "                running_loss += loss_evaluated\n",
    "        \n",
    "            avg_loss = running_loss / batches\n",
    "            if verbose: \n",
    "                print(\"Average loss over epoch {}: {:.4f}\".format(epoch + 1, avg_loss))\n",
    "            #VALIDATION\n",
    "            if self.xval is not None:\n",
    "                y_pred_val = self.model(Xval)\n",
    "                predictions_val = torch.argmax(y_pred_val, axis=1).detach().numpy()\n",
    "    \n",
    "                y_val_pos=torch.argmax(yval, axis=1).detach().numpy()\n",
    "                correct_val = [1 if p == p_true else 0 for p, p_true in zip(predictions_val, y_val_pos)]\n",
    "                accuracy_val = sum(correct_val) / len(correct_val)\n",
    "                if verbose:\n",
    "                    print(f\"Validation Accuracy: {accuracy_val * 100}%\")\n",
    "                if wandb_verbose:\n",
    "                    wandb.log({\"accuracy_validation\":accuracy_val * 100})\n",
    "\n",
    "        y_pred = self.model(X)\n",
    "        predictions = torch.argmax(y_pred, axis=1).detach().numpy()\n",
    "        truelabel=torch.argmax(y, axis=1).detach().numpy()\n",
    "\n",
    "        correct = [1 if p == p_true else 0 for p, p_true in zip(predictions, truelabel)]\n",
    "        accuracy = sum(correct) / len(correct)\n",
    "        print(f\"Accuracy: {accuracy * 100}%\")\n",
    "        if wandb_verbose:\n",
    "            wandb.log({\"accuracy\":accuracy * 100})\n",
    "        \n",
    "        "
   ]
  },
  {
   "cell_type": "code",
   "execution_count": 7,
   "id": "7ed54d15-2d9d-4f31-93ab-8d19608bda7a",
   "metadata": {
    "ExecuteTime": {
     "end_time": "2024-06-27T22:48:40.998170Z",
     "start_time": "2024-06-27T22:48:40.989447Z"
    }
   },
   "outputs": [],
   "source": [
    "def main():\n",
    "    x,y=get_dataset(5,split=False)\n",
    "    net=QPNN([5],x,y)\n",
    "    net.train()\n"
   ]
  },
  {
   "cell_type": "code",
   "execution_count": 8,
   "id": "e4899da4-0ae8-4d61-8d88-952bae606f12",
   "metadata": {
    "ExecuteTime": {
     "end_time": "2024-06-27T22:53:44.383519Z",
     "start_time": "2024-06-27T22:53:41.229782Z"
    }
   },
   "outputs": [
    {
     "name": "stderr",
     "output_type": "stream",
     "text": [
      "\u001B[34m\u001B[1mwandb\u001B[0m: Currently logged in as: \u001B[33mgiacomoantonioli\u001B[0m (\u001B[33mquantum_kets\u001B[0m). Use \u001B[1m`wandb login --relogin`\u001B[0m to force relogin\n"
     ]
    },
    {
     "name": "stdout",
     "output_type": "stream",
     "text": [
      "{'method': 'random',\n",
      " 'metric': {'goal': 'minimize', 'name': 'loss'},\n",
      " 'parameters': {'batch_size': {'distribution': 'q_log_uniform_values',\n",
      "                               'max': 128,\n",
      "                               'min': 2,\n",
      "                               'q': 6},\n",
      "                'epochs': {'values': [10, 50, 100, 1000]},\n",
      "                'learning_rate': {'distribution': 'uniform',\n",
      "                                  'max': 0.9,\n",
      "                                  'min': 0}}}\n"
     ]
    }
   ],
   "source": [
    "wandb.login()\n",
    "sweep_config = {'method': 'random'}\n",
    "metric = {'name': 'loss','goal': 'minimize'}\n",
    "sweep_config['metric'] = metric\n",
    "parameters_dict = { 'epochs': {\n",
    "                        'values': [10,50,100,1000]},\n",
    "                    }\n",
    "sweep_config['parameters'] = parameters_dict\n",
    "parameters_dict.update({\n",
    "    'learning_rate': {\n",
    "        # a flat distribution between 0 and 0.1\n",
    "        'distribution': 'uniform',\n",
    "        'min': 0,\n",
    "        'max': 0.9\n",
    "      },\n",
    "    'batch_size': {\n",
    "        # integers between 32 and 256\n",
    "        # with evenly-distributed logarithms \n",
    "        'distribution': 'q_log_uniform_values',\n",
    "        'q': 6,\n",
    "        'min': 2,\n",
    "        'max': 128,\n",
    "      }\n",
    "    })\n",
    "pprint.pprint(sweep_config)"
   ]
  },
  {
   "cell_type": "code",
   "execution_count": 9,
   "id": "9ad455968e4ae9e4",
   "metadata": {
    "ExecuteTime": {
     "end_time": "2024-06-27T22:53:53.042251Z",
     "start_time": "2024-06-27T22:53:52.481208Z"
    }
   },
   "outputs": [
    {
     "name": "stdout",
     "output_type": "stream",
     "text": [
      "Create sweep with ID: 2s8aes02\n",
      "Sweep URL: https://wandb.ai/quantum_kets/QPNNTRAINSWEEP_iris_linear/sweeps/2s8aes02\n"
     ]
    }
   ],
   "source": [
    "sweep_id = wandb.sweep(sweep=sweep_config, entity='quantum_kets', project='QPNNTRAINSWEEP_iris_linear')"
   ]
  },
  {
   "cell_type": "code",
   "execution_count": null,
   "id": "acf3483baec4daa6",
   "metadata": {
    "ExecuteTime": {
     "end_time": "2024-06-27T22:54:26.861804Z",
     "start_time": "2024-06-27T22:53:54.666884Z"
    }
   },
   "outputs": [
    {
     "name": "stderr",
     "output_type": "stream",
     "text": [
      "\u001B[34m\u001B[1mwandb\u001B[0m: Agent Starting Run: x2alu4k8 with config:\n",
      "\u001B[34m\u001B[1mwandb\u001B[0m: \tbatch_size: 54\n",
      "\u001B[34m\u001B[1mwandb\u001B[0m: \tepochs: 10\n",
      "\u001B[34m\u001B[1mwandb\u001B[0m: \tlearning_rate: 0.009474755586060635\n"
     ]
    },
    {
     "name": "stdout",
     "output_type": "stream",
     "text": [
      "Getting dataset:  {'iris_linear'}\n",
      "[5, 5, 2]\n",
      "5\n"
     ]
    },
    {
     "data": {
      "text/html": [
       "wandb version 0.17.3 is available!  To upgrade, please run:\n",
       " $ pip install wandb --upgrade"
      ],
      "text/plain": [
       "<IPython.core.display.HTML object>"
      ]
     },
     "metadata": {},
     "output_type": "display_data"
    },
    {
     "data": {
      "text/html": [
       "Tracking run with wandb version 0.17.2"
      ],
      "text/plain": [
       "<IPython.core.display.HTML object>"
      ]
     },
     "metadata": {},
     "output_type": "display_data"
    },
    {
     "data": {
      "text/html": [
       "Run data is saved locally in <code>C:\\Users\\giaco\\wandb\\run-20240628_010659-x2alu4k8</code>"
      ],
      "text/plain": [
       "<IPython.core.display.HTML object>"
      ]
     },
     "metadata": {},
     "output_type": "display_data"
    },
    {
     "data": {
      "text/html": [
       "Syncing run <strong><a href='https://wandb.ai/quantum_kets/QPNNTRAINSWEEP_iris_linear/runs/x2alu4k8' target=\"_blank\">true-sweep-1</a></strong> to <a href='https://wandb.ai/quantum_kets/QPNNTRAINSWEEP_iris_linear' target=\"_blank\">Weights & Biases</a> (<a href='https://wandb.me/run' target=\"_blank\">docs</a>)<br/>Sweep page: <a href='https://wandb.ai/quantum_kets/QPNNTRAINSWEEP_iris_linear/sweeps/2s8aes02' target=\"_blank\">https://wandb.ai/quantum_kets/QPNNTRAINSWEEP_iris_linear/sweeps/2s8aes02</a>"
      ],
      "text/plain": [
       "<IPython.core.display.HTML object>"
      ]
     },
     "metadata": {},
     "output_type": "display_data"
    },
    {
     "data": {
      "text/html": [
       " View project at <a href='https://wandb.ai/quantum_kets/QPNNTRAINSWEEP_iris_linear' target=\"_blank\">https://wandb.ai/quantum_kets/QPNNTRAINSWEEP_iris_linear</a>"
      ],
      "text/plain": [
       "<IPython.core.display.HTML object>"
      ]
     },
     "metadata": {},
     "output_type": "display_data"
    },
    {
     "data": {
      "text/html": [
       " View sweep at <a href='https://wandb.ai/quantum_kets/QPNNTRAINSWEEP_iris_linear/sweeps/2s8aes02' target=\"_blank\">https://wandb.ai/quantum_kets/QPNNTRAINSWEEP_iris_linear/sweeps/2s8aes02</a>"
      ],
      "text/plain": [
       "<IPython.core.display.HTML object>"
      ]
     },
     "metadata": {},
     "output_type": "display_data"
    },
    {
     "data": {
      "text/html": [
       " View run at <a href='https://wandb.ai/quantum_kets/QPNNTRAINSWEEP_iris_linear/runs/x2alu4k8' target=\"_blank\">https://wandb.ai/quantum_kets/QPNNTRAINSWEEP_iris_linear/runs/x2alu4k8</a>"
      ],
      "text/plain": [
       "<IPython.core.display.HTML object>"
      ]
     },
     "metadata": {},
     "output_type": "display_data"
    },
    {
     "name": "stderr",
     "output_type": "stream",
     "text": [
      "C:\\Users\\giaco\\AppData\\Local\\Temp\\ipykernel_34432\\1563909084.py:86: UserWarning: To copy construct from a tensor, it is recommended to use sourceTensor.clone().detach() or sourceTensor.clone().detach().requires_grad_(True), rather than torch.tensor(sourceTensor).\n",
      "  y = torch.tensor(self.y, requires_grad=False).float()\n",
      " 20%|█████████████                                                    | 2/10 [00:00<00:01,  7.92it/s]"
     ]
    },
    {
     "name": "stdout",
     "output_type": "stream",
     "text": [
      "Average loss over epoch 1: 0.8574\n",
      "Average loss over epoch 2: 0.8339\n"
     ]
    },
    {
     "name": "stderr",
     "output_type": "stream",
     "text": [
      " 50%|████████████████████████████████▌                                | 5/10 [00:00<00:00,  9.97it/s]"
     ]
    },
    {
     "name": "stdout",
     "output_type": "stream",
     "text": [
      "Average loss over epoch 3: 0.8397\n",
      "Average loss over epoch 4: 0.8257\n",
      "Average loss over epoch 5: 0.8034\n"
     ]
    },
    {
     "name": "stderr",
     "output_type": "stream",
     "text": [
      " 70%|█████████████████████████████████████████████▌                   | 7/10 [00:00<00:00, 10.28it/s]"
     ]
    },
    {
     "name": "stdout",
     "output_type": "stream",
     "text": [
      "Average loss over epoch 6: 0.8240\n",
      "Average loss over epoch 7: 0.7920\n",
      "Average loss over epoch 8: 0.8098\n"
     ]
    },
    {
     "name": "stderr",
     "output_type": "stream",
     "text": [
      "100%|████████████████████████████████████████████████████████████████| 10/10 [00:00<00:00, 10.09it/s]"
     ]
    },
    {
     "name": "stdout",
     "output_type": "stream",
     "text": [
      "Average loss over epoch 9: 0.8042\n",
      "Average loss over epoch 10: 0.8211\n",
      "Accuracy: 50.0%\n"
     ]
    },
    {
     "name": "stderr",
     "output_type": "stream",
     "text": [
      "\n"
     ]
    },
    {
     "data": {
      "text/html": [
       "<style>\n",
       "    table.wandb td:nth-child(1) { padding: 0 10px; text-align: left ; width: auto;} td:nth-child(2) {text-align: left ; width: 100%}\n",
       "    .wandb-row { display: flex; flex-direction: row; flex-wrap: wrap; justify-content: flex-start; width: 100% }\n",
       "    .wandb-col { display: flex; flex-direction: column; flex-basis: 100%; flex: 1; padding: 10px; }\n",
       "    </style>\n",
       "<div class=\"wandb-row\"><div class=\"wandb-col\"><h3>Run history:</h3><br/><table class=\"wandb\"><tr><td>accuracy</td><td>▁</td></tr></table><br/></div><div class=\"wandb-col\"><h3>Run summary:</h3><br/><table class=\"wandb\"><tr><td>accuracy</td><td>50.0</td></tr></table><br/></div></div>"
      ],
      "text/plain": [
       "<IPython.core.display.HTML object>"
      ]
     },
     "metadata": {},
     "output_type": "display_data"
    },
    {
     "data": {
      "text/html": [
       " View run <strong style=\"color:#cdcd00\">true-sweep-1</strong> at: <a href='https://wandb.ai/quantum_kets/QPNNTRAINSWEEP_iris_linear/runs/x2alu4k8' target=\"_blank\">https://wandb.ai/quantum_kets/QPNNTRAINSWEEP_iris_linear/runs/x2alu4k8</a><br/> View project at: <a href='https://wandb.ai/quantum_kets/QPNNTRAINSWEEP_iris_linear' target=\"_blank\">https://wandb.ai/quantum_kets/QPNNTRAINSWEEP_iris_linear</a><br/>Synced 6 W&B file(s), 0 media file(s), 0 artifact file(s) and 0 other file(s)"
      ],
      "text/plain": [
       "<IPython.core.display.HTML object>"
      ]
     },
     "metadata": {},
     "output_type": "display_data"
    },
    {
     "data": {
      "text/html": [
       "Find logs at: <code>.\\wandb\\run-20240628_010659-x2alu4k8\\logs</code>"
      ],
      "text/plain": [
       "<IPython.core.display.HTML object>"
      ]
     },
     "metadata": {},
     "output_type": "display_data"
    },
    {
     "data": {
      "text/html": [
       "The new W&B backend becomes opt-out in version 0.18.0; try it out with `wandb.require(\"core\")`! See https://wandb.me/wandb-core for more information."
      ],
      "text/plain": [
       "<IPython.core.display.HTML object>"
      ]
     },
     "metadata": {},
     "output_type": "display_data"
    },
    {
     "name": "stderr",
     "output_type": "stream",
     "text": [
      "\u001B[34m\u001B[1mwandb\u001B[0m: Agent Starting Run: numnx79u with config:\n",
      "\u001B[34m\u001B[1mwandb\u001B[0m: \tbatch_size: 42\n",
      "\u001B[34m\u001B[1mwandb\u001B[0m: \tepochs: 10\n",
      "\u001B[34m\u001B[1mwandb\u001B[0m: \tlearning_rate: 0.8482257583221765\n"
     ]
    },
    {
     "name": "stdout",
     "output_type": "stream",
     "text": [
      "Getting dataset:  {'iris_linear'}\n",
      "[5, 5, 2]\n",
      "5\n"
     ]
    },
    {
     "data": {
      "text/html": [
       "wandb version 0.17.3 is available!  To upgrade, please run:\n",
       " $ pip install wandb --upgrade"
      ],
      "text/plain": [
       "<IPython.core.display.HTML object>"
      ]
     },
     "metadata": {},
     "output_type": "display_data"
    },
    {
     "data": {
      "text/html": [
       "Tracking run with wandb version 0.17.2"
      ],
      "text/plain": [
       "<IPython.core.display.HTML object>"
      ]
     },
     "metadata": {},
     "output_type": "display_data"
    },
    {
     "data": {
      "text/html": [
       "Run data is saved locally in <code>C:\\Users\\giaco\\wandb\\run-20240628_010716-numnx79u</code>"
      ],
      "text/plain": [
       "<IPython.core.display.HTML object>"
      ]
     },
     "metadata": {},
     "output_type": "display_data"
    },
    {
     "data": {
      "text/html": [
       "Syncing run <strong><a href='https://wandb.ai/quantum_kets/QPNNTRAINSWEEP_iris_linear/runs/numnx79u' target=\"_blank\">autumn-sweep-2</a></strong> to <a href='https://wandb.ai/quantum_kets/QPNNTRAINSWEEP_iris_linear' target=\"_blank\">Weights & Biases</a> (<a href='https://wandb.me/run' target=\"_blank\">docs</a>)<br/>Sweep page: <a href='https://wandb.ai/quantum_kets/QPNNTRAINSWEEP_iris_linear/sweeps/2s8aes02' target=\"_blank\">https://wandb.ai/quantum_kets/QPNNTRAINSWEEP_iris_linear/sweeps/2s8aes02</a>"
      ],
      "text/plain": [
       "<IPython.core.display.HTML object>"
      ]
     },
     "metadata": {},
     "output_type": "display_data"
    },
    {
     "data": {
      "text/html": [
       " View project at <a href='https://wandb.ai/quantum_kets/QPNNTRAINSWEEP_iris_linear' target=\"_blank\">https://wandb.ai/quantum_kets/QPNNTRAINSWEEP_iris_linear</a>"
      ],
      "text/plain": [
       "<IPython.core.display.HTML object>"
      ]
     },
     "metadata": {},
     "output_type": "display_data"
    },
    {
     "data": {
      "text/html": [
       " View sweep at <a href='https://wandb.ai/quantum_kets/QPNNTRAINSWEEP_iris_linear/sweeps/2s8aes02' target=\"_blank\">https://wandb.ai/quantum_kets/QPNNTRAINSWEEP_iris_linear/sweeps/2s8aes02</a>"
      ],
      "text/plain": [
       "<IPython.core.display.HTML object>"
      ]
     },
     "metadata": {},
     "output_type": "display_data"
    },
    {
     "data": {
      "text/html": [
       " View run at <a href='https://wandb.ai/quantum_kets/QPNNTRAINSWEEP_iris_linear/runs/numnx79u' target=\"_blank\">https://wandb.ai/quantum_kets/QPNNTRAINSWEEP_iris_linear/runs/numnx79u</a>"
      ],
      "text/plain": [
       "<IPython.core.display.HTML object>"
      ]
     },
     "metadata": {},
     "output_type": "display_data"
    },
    {
     "name": "stderr",
     "output_type": "stream",
     "text": [
      "C:\\Users\\giaco\\AppData\\Local\\Temp\\ipykernel_34432\\1563909084.py:86: UserWarning: To copy construct from a tensor, it is recommended to use sourceTensor.clone().detach() or sourceTensor.clone().detach().requires_grad_(True), rather than torch.tensor(sourceTensor).\n",
      "  y = torch.tensor(self.y, requires_grad=False).float()\n",
      " 10%|██████▌                                                          | 1/10 [00:00<00:02,  3.58it/s]"
     ]
    },
    {
     "name": "stdout",
     "output_type": "stream",
     "text": [
      "Average loss over epoch 1: 0.7502\n"
     ]
    },
    {
     "name": "stderr",
     "output_type": "stream",
     "text": [
      " 20%|█████████████                                                    | 2/10 [00:00<00:01,  4.13it/s]"
     ]
    },
    {
     "name": "stdout",
     "output_type": "stream",
     "text": [
      "Average loss over epoch 2: 0.7101\n"
     ]
    },
    {
     "name": "stderr",
     "output_type": "stream",
     "text": [
      " 30%|███████████████████▌                                             | 3/10 [00:00<00:01,  4.32it/s]"
     ]
    },
    {
     "name": "stdout",
     "output_type": "stream",
     "text": [
      "Average loss over epoch 3: 0.6980\n"
     ]
    },
    {
     "name": "stderr",
     "output_type": "stream",
     "text": [
      " 50%|████████████████████████████████▌                                | 5/10 [00:01<00:01,  4.84it/s]"
     ]
    },
    {
     "name": "stdout",
     "output_type": "stream",
     "text": [
      "Average loss over epoch 4: 0.7038\n",
      "Average loss over epoch 5: 0.6967\n"
     ]
    },
    {
     "name": "stderr",
     "output_type": "stream",
     "text": [
      " 70%|█████████████████████████████████████████████▌                   | 7/10 [00:01<00:00,  5.26it/s]"
     ]
    },
    {
     "name": "stdout",
     "output_type": "stream",
     "text": [
      "Average loss over epoch 6: 0.6969\n",
      "Average loss over epoch 7: 0.6939\n"
     ]
    },
    {
     "name": "stderr",
     "output_type": "stream",
     "text": [
      " 90%|██████████████████████████████████████████████████████████▌      | 9/10 [00:01<00:00,  5.29it/s]"
     ]
    },
    {
     "name": "stdout",
     "output_type": "stream",
     "text": [
      "Average loss over epoch 8: 0.6985\n",
      "Average loss over epoch 9: 0.6941\n"
     ]
    },
    {
     "name": "stderr",
     "output_type": "stream",
     "text": [
      "100%|████████████████████████████████████████████████████████████████| 10/10 [00:02<00:00,  4.99it/s]\n"
     ]
    },
    {
     "name": "stdout",
     "output_type": "stream",
     "text": [
      "Average loss over epoch 10: 0.6920\n",
      "Accuracy: 50.0%\n"
     ]
    },
    {
     "data": {
      "text/html": [
       "<style>\n",
       "    table.wandb td:nth-child(1) { padding: 0 10px; text-align: left ; width: auto;} td:nth-child(2) {text-align: left ; width: 100%}\n",
       "    .wandb-row { display: flex; flex-direction: row; flex-wrap: wrap; justify-content: flex-start; width: 100% }\n",
       "    .wandb-col { display: flex; flex-direction: column; flex-basis: 100%; flex: 1; padding: 10px; }\n",
       "    </style>\n",
       "<div class=\"wandb-row\"><div class=\"wandb-col\"><h3>Run history:</h3><br/><table class=\"wandb\"><tr><td>accuracy</td><td>▁</td></tr></table><br/></div><div class=\"wandb-col\"><h3>Run summary:</h3><br/><table class=\"wandb\"><tr><td>accuracy</td><td>50.0</td></tr></table><br/></div></div>"
      ],
      "text/plain": [
       "<IPython.core.display.HTML object>"
      ]
     },
     "metadata": {},
     "output_type": "display_data"
    },
    {
     "data": {
      "text/html": [
       " View run <strong style=\"color:#cdcd00\">autumn-sweep-2</strong> at: <a href='https://wandb.ai/quantum_kets/QPNNTRAINSWEEP_iris_linear/runs/numnx79u' target=\"_blank\">https://wandb.ai/quantum_kets/QPNNTRAINSWEEP_iris_linear/runs/numnx79u</a><br/> View project at: <a href='https://wandb.ai/quantum_kets/QPNNTRAINSWEEP_iris_linear' target=\"_blank\">https://wandb.ai/quantum_kets/QPNNTRAINSWEEP_iris_linear</a><br/>Synced 6 W&B file(s), 0 media file(s), 0 artifact file(s) and 0 other file(s)"
      ],
      "text/plain": [
       "<IPython.core.display.HTML object>"
      ]
     },
     "metadata": {},
     "output_type": "display_data"
    },
    {
     "data": {
      "text/html": [
       "Find logs at: <code>.\\wandb\\run-20240628_010716-numnx79u\\logs</code>"
      ],
      "text/plain": [
       "<IPython.core.display.HTML object>"
      ]
     },
     "metadata": {},
     "output_type": "display_data"
    },
    {
     "data": {
      "text/html": [
       "The new W&B backend becomes opt-out in version 0.18.0; try it out with `wandb.require(\"core\")`! See https://wandb.me/wandb-core for more information."
      ],
      "text/plain": [
       "<IPython.core.display.HTML object>"
      ]
     },
     "metadata": {},
     "output_type": "display_data"
    },
    {
     "name": "stderr",
     "output_type": "stream",
     "text": [
      "\u001B[34m\u001B[1mwandb\u001B[0m: Agent Starting Run: wlq33ymc with config:\n",
      "\u001B[34m\u001B[1mwandb\u001B[0m: \tbatch_size: 24\n",
      "\u001B[34m\u001B[1mwandb\u001B[0m: \tepochs: 50\n",
      "\u001B[34m\u001B[1mwandb\u001B[0m: \tlearning_rate: 0.7925054392488772\n"
     ]
    },
    {
     "name": "stdout",
     "output_type": "stream",
     "text": [
      "Getting dataset:  {'iris_linear'}\n",
      "[5, 5, 2]\n",
      "5\n"
     ]
    },
    {
     "data": {
      "text/html": [
       "wandb version 0.17.3 is available!  To upgrade, please run:\n",
       " $ pip install wandb --upgrade"
      ],
      "text/plain": [
       "<IPython.core.display.HTML object>"
      ]
     },
     "metadata": {},
     "output_type": "display_data"
    },
    {
     "data": {
      "text/html": [
       "Tracking run with wandb version 0.17.2"
      ],
      "text/plain": [
       "<IPython.core.display.HTML object>"
      ]
     },
     "metadata": {},
     "output_type": "display_data"
    },
    {
     "data": {
      "text/html": [
       "Run data is saved locally in <code>C:\\Users\\giaco\\wandb\\run-20240628_010735-wlq33ymc</code>"
      ],
      "text/plain": [
       "<IPython.core.display.HTML object>"
      ]
     },
     "metadata": {},
     "output_type": "display_data"
    },
    {
     "data": {
      "text/html": [
       "Syncing run <strong><a href='https://wandb.ai/quantum_kets/QPNNTRAINSWEEP_iris_linear/runs/wlq33ymc' target=\"_blank\">celestial-sweep-3</a></strong> to <a href='https://wandb.ai/quantum_kets/QPNNTRAINSWEEP_iris_linear' target=\"_blank\">Weights & Biases</a> (<a href='https://wandb.me/run' target=\"_blank\">docs</a>)<br/>Sweep page: <a href='https://wandb.ai/quantum_kets/QPNNTRAINSWEEP_iris_linear/sweeps/2s8aes02' target=\"_blank\">https://wandb.ai/quantum_kets/QPNNTRAINSWEEP_iris_linear/sweeps/2s8aes02</a>"
      ],
      "text/plain": [
       "<IPython.core.display.HTML object>"
      ]
     },
     "metadata": {},
     "output_type": "display_data"
    },
    {
     "data": {
      "text/html": [
       " View project at <a href='https://wandb.ai/quantum_kets/QPNNTRAINSWEEP_iris_linear' target=\"_blank\">https://wandb.ai/quantum_kets/QPNNTRAINSWEEP_iris_linear</a>"
      ],
      "text/plain": [
       "<IPython.core.display.HTML object>"
      ]
     },
     "metadata": {},
     "output_type": "display_data"
    },
    {
     "data": {
      "text/html": [
       " View sweep at <a href='https://wandb.ai/quantum_kets/QPNNTRAINSWEEP_iris_linear/sweeps/2s8aes02' target=\"_blank\">https://wandb.ai/quantum_kets/QPNNTRAINSWEEP_iris_linear/sweeps/2s8aes02</a>"
      ],
      "text/plain": [
       "<IPython.core.display.HTML object>"
      ]
     },
     "metadata": {},
     "output_type": "display_data"
    },
    {
     "data": {
      "text/html": [
       " View run at <a href='https://wandb.ai/quantum_kets/QPNNTRAINSWEEP_iris_linear/runs/wlq33ymc' target=\"_blank\">https://wandb.ai/quantum_kets/QPNNTRAINSWEEP_iris_linear/runs/wlq33ymc</a>"
      ],
      "text/plain": [
       "<IPython.core.display.HTML object>"
      ]
     },
     "metadata": {},
     "output_type": "display_data"
    },
    {
     "name": "stderr",
     "output_type": "stream",
     "text": [
      "C:\\Users\\giaco\\AppData\\Local\\Temp\\ipykernel_34432\\1563909084.py:86: UserWarning: To copy construct from a tensor, it is recommended to use sourceTensor.clone().detach() or sourceTensor.clone().detach().requires_grad_(True), rather than torch.tensor(sourceTensor).\n",
      "  y = torch.tensor(self.y, requires_grad=False).float()\n",
      "  2%|█▎                                                               | 1/50 [00:00<00:20,  2.35it/s]"
     ]
    },
    {
     "name": "stdout",
     "output_type": "stream",
     "text": [
      "Average loss over epoch 1: 0.8102\n"
     ]
    },
    {
     "name": "stderr",
     "output_type": "stream",
     "text": [
      "  4%|██▌                                                              | 2/50 [00:00<00:18,  2.60it/s]"
     ]
    },
    {
     "name": "stdout",
     "output_type": "stream",
     "text": [
      "Average loss over epoch 2: 0.7368\n"
     ]
    },
    {
     "name": "stderr",
     "output_type": "stream",
     "text": [
      "  6%|███▉                                                             | 3/50 [00:01<00:17,  2.67it/s]"
     ]
    },
    {
     "name": "stdout",
     "output_type": "stream",
     "text": [
      "Average loss over epoch 3: 0.7062\n"
     ]
    },
    {
     "name": "stderr",
     "output_type": "stream",
     "text": [
      "  8%|█████▏                                                           | 4/50 [00:01<00:17,  2.69it/s]"
     ]
    },
    {
     "name": "stdout",
     "output_type": "stream",
     "text": [
      "Average loss over epoch 4: 0.6981\n"
     ]
    },
    {
     "name": "stderr",
     "output_type": "stream",
     "text": [
      " 10%|██████▌                                                          | 5/50 [00:01<00:16,  2.66it/s]"
     ]
    },
    {
     "name": "stdout",
     "output_type": "stream",
     "text": [
      "Average loss over epoch 5: 0.6958\n"
     ]
    },
    {
     "name": "stderr",
     "output_type": "stream",
     "text": [
      " 12%|███████▊                                                         | 6/50 [00:02<00:16,  2.68it/s]"
     ]
    },
    {
     "name": "stdout",
     "output_type": "stream",
     "text": [
      "Average loss over epoch 6: 0.6933\n"
     ]
    },
    {
     "name": "stderr",
     "output_type": "stream",
     "text": [
      " 14%|█████████                                                        | 7/50 [00:02<00:15,  2.72it/s]"
     ]
    },
    {
     "name": "stdout",
     "output_type": "stream",
     "text": [
      "Average loss over epoch 7: 0.6930\n"
     ]
    },
    {
     "name": "stderr",
     "output_type": "stream",
     "text": [
      " 16%|██████████▍                                                      | 8/50 [00:02<00:15,  2.70it/s]"
     ]
    },
    {
     "name": "stdout",
     "output_type": "stream",
     "text": [
      "Average loss over epoch 8: 0.6922\n"
     ]
    },
    {
     "name": "stderr",
     "output_type": "stream",
     "text": [
      " 18%|███████████▋                                                     | 9/50 [00:03<00:15,  2.72it/s]"
     ]
    },
    {
     "name": "stdout",
     "output_type": "stream",
     "text": [
      "Average loss over epoch 9: 0.6920\n"
     ]
    },
    {
     "name": "stderr",
     "output_type": "stream",
     "text": [
      " 20%|████████████▊                                                   | 10/50 [00:03<00:14,  2.67it/s]"
     ]
    },
    {
     "name": "stdout",
     "output_type": "stream",
     "text": [
      "Average loss over epoch 10: 0.6915\n"
     ]
    },
    {
     "name": "stderr",
     "output_type": "stream",
     "text": [
      " 22%|██████████████                                                  | 11/50 [00:04<00:14,  2.70it/s]"
     ]
    },
    {
     "name": "stdout",
     "output_type": "stream",
     "text": [
      "Average loss over epoch 11: 0.6896\n"
     ]
    },
    {
     "name": "stderr",
     "output_type": "stream",
     "text": [
      " 24%|███████████████▎                                                | 12/50 [00:04<00:13,  2.73it/s]"
     ]
    },
    {
     "name": "stdout",
     "output_type": "stream",
     "text": [
      "Average loss over epoch 12: 0.6892\n"
     ]
    },
    {
     "name": "stderr",
     "output_type": "stream",
     "text": [
      " 26%|████████████████▋                                               | 13/50 [00:04<00:13,  2.76it/s]"
     ]
    },
    {
     "name": "stdout",
     "output_type": "stream",
     "text": [
      "Average loss over epoch 13: 0.6876\n"
     ]
    },
    {
     "name": "stderr",
     "output_type": "stream",
     "text": [
      " 28%|█████████████████▉                                              | 14/50 [00:05<00:13,  2.76it/s]"
     ]
    },
    {
     "name": "stdout",
     "output_type": "stream",
     "text": [
      "Average loss over epoch 14: 0.6849\n"
     ]
    },
    {
     "name": "stderr",
     "output_type": "stream",
     "text": [
      " 30%|███████████████████▏                                            | 15/50 [00:05<00:12,  2.71it/s]"
     ]
    },
    {
     "name": "stdout",
     "output_type": "stream",
     "text": [
      "Average loss over epoch 15: 0.6823\n"
     ]
    },
    {
     "name": "stderr",
     "output_type": "stream",
     "text": [
      " 32%|████████████████████▍                                           | 16/50 [00:05<00:12,  2.64it/s]"
     ]
    },
    {
     "name": "stdout",
     "output_type": "stream",
     "text": [
      "Average loss over epoch 16: 0.6735\n"
     ]
    },
    {
     "name": "stderr",
     "output_type": "stream",
     "text": [
      " 34%|█████████████████████▊                                          | 17/50 [00:06<00:12,  2.55it/s]"
     ]
    },
    {
     "name": "stdout",
     "output_type": "stream",
     "text": [
      "Average loss over epoch 17: 0.6589\n"
     ]
    },
    {
     "name": "stderr",
     "output_type": "stream",
     "text": [
      " 36%|███████████████████████                                         | 18/50 [00:06<00:12,  2.48it/s]"
     ]
    },
    {
     "name": "stdout",
     "output_type": "stream",
     "text": [
      "Average loss over epoch 18: 0.6269\n"
     ]
    },
    {
     "name": "stderr",
     "output_type": "stream",
     "text": [
      " 38%|████████████████████████▎                                       | 19/50 [00:07<00:12,  2.50it/s]"
     ]
    },
    {
     "name": "stdout",
     "output_type": "stream",
     "text": [
      "Average loss over epoch 19: 0.6153\n"
     ]
    },
    {
     "name": "stderr",
     "output_type": "stream",
     "text": [
      " 40%|█████████████████████████▌                                      | 20/50 [00:07<00:11,  2.59it/s]"
     ]
    },
    {
     "name": "stdout",
     "output_type": "stream",
     "text": [
      "Average loss over epoch 20: 0.5803\n"
     ]
    },
    {
     "name": "stderr",
     "output_type": "stream",
     "text": [
      " 42%|██████████████████████████▉                                     | 21/50 [00:07<00:10,  2.65it/s]"
     ]
    },
    {
     "name": "stdout",
     "output_type": "stream",
     "text": [
      "Average loss over epoch 21: 0.6359\n"
     ]
    },
    {
     "name": "stderr",
     "output_type": "stream",
     "text": [
      " 44%|████████████████████████████▏                                   | 22/50 [00:08<00:10,  2.69it/s]"
     ]
    },
    {
     "name": "stdout",
     "output_type": "stream",
     "text": [
      "Average loss over epoch 22: 0.6308\n"
     ]
    },
    {
     "name": "stderr",
     "output_type": "stream",
     "text": [
      " 46%|█████████████████████████████▍                                  | 23/50 [00:08<00:10,  2.68it/s]"
     ]
    },
    {
     "name": "stdout",
     "output_type": "stream",
     "text": [
      "Average loss over epoch 23: 0.6097\n"
     ]
    },
    {
     "name": "stderr",
     "output_type": "stream",
     "text": [
      " 48%|██████████████████████████████▋                                 | 24/50 [00:09<00:10,  2.59it/s]"
     ]
    },
    {
     "name": "stdout",
     "output_type": "stream",
     "text": [
      "Average loss over epoch 24: 0.6254\n"
     ]
    },
    {
     "name": "stderr",
     "output_type": "stream",
     "text": [
      " 50%|████████████████████████████████                                | 25/50 [00:09<00:09,  2.67it/s]"
     ]
    },
    {
     "name": "stdout",
     "output_type": "stream",
     "text": [
      "Average loss over epoch 25: 0.5940\n"
     ]
    },
    {
     "name": "stderr",
     "output_type": "stream",
     "text": [
      " 52%|█████████████████████████████████▎                              | 26/50 [00:09<00:08,  2.69it/s]"
     ]
    },
    {
     "name": "stdout",
     "output_type": "stream",
     "text": [
      "Average loss over epoch 26: 0.6206\n"
     ]
    },
    {
     "name": "stderr",
     "output_type": "stream",
     "text": [
      " 54%|██████████████████████████████████▌                             | 27/50 [00:10<00:08,  2.57it/s]"
     ]
    },
    {
     "name": "stdout",
     "output_type": "stream",
     "text": [
      "Average loss over epoch 27: 0.6263\n"
     ]
    },
    {
     "name": "stderr",
     "output_type": "stream",
     "text": [
      " 56%|███████████████████████████████████▊                            | 28/50 [00:10<00:08,  2.55it/s]"
     ]
    },
    {
     "name": "stdout",
     "output_type": "stream",
     "text": [
      "Average loss over epoch 28: 0.6948\n"
     ]
    },
    {
     "name": "stderr",
     "output_type": "stream",
     "text": [
      " 58%|█████████████████████████████████████                           | 29/50 [00:10<00:07,  2.64it/s]"
     ]
    },
    {
     "name": "stdout",
     "output_type": "stream",
     "text": [
      "Average loss over epoch 29: 0.5589\n"
     ]
    },
    {
     "name": "stderr",
     "output_type": "stream",
     "text": [
      " 60%|██████████████████████████████████████▍                         | 30/50 [00:11<00:07,  2.67it/s]"
     ]
    },
    {
     "name": "stdout",
     "output_type": "stream",
     "text": [
      "Average loss over epoch 30: 0.6164\n"
     ]
    },
    {
     "name": "stderr",
     "output_type": "stream",
     "text": [
      " 62%|███████████████████████████████████████▋                        | 31/50 [00:11<00:06,  2.73it/s]"
     ]
    },
    {
     "name": "stdout",
     "output_type": "stream",
     "text": [
      "Average loss over epoch 31: 0.7200\n"
     ]
    },
    {
     "name": "stderr",
     "output_type": "stream",
     "text": [
      " 64%|████████████████████████████████████████▉                       | 32/50 [00:12<00:06,  2.78it/s]"
     ]
    },
    {
     "name": "stdout",
     "output_type": "stream",
     "text": [
      "Average loss over epoch 32: 0.6265\n"
     ]
    },
    {
     "name": "stderr",
     "output_type": "stream",
     "text": [
      " 66%|██████████████████████████████████████████▏                     | 33/50 [00:12<00:06,  2.79it/s]"
     ]
    },
    {
     "name": "stdout",
     "output_type": "stream",
     "text": [
      "Average loss over epoch 33: 0.6105\n"
     ]
    },
    {
     "name": "stderr",
     "output_type": "stream",
     "text": [
      " 68%|███████████████████████████████████████████▌                    | 34/50 [00:12<00:05,  2.82it/s]"
     ]
    },
    {
     "name": "stdout",
     "output_type": "stream",
     "text": [
      "Average loss over epoch 34: 0.7244\n"
     ]
    },
    {
     "name": "stderr",
     "output_type": "stream",
     "text": [
      " 70%|████████████████████████████████████████████▊                   | 35/50 [00:13<00:05,  2.84it/s]"
     ]
    },
    {
     "name": "stdout",
     "output_type": "stream",
     "text": [
      "Average loss over epoch 35: 0.6242\n"
     ]
    },
    {
     "name": "stderr",
     "output_type": "stream",
     "text": [
      " 72%|██████████████████████████████████████████████                  | 36/50 [00:13<00:04,  2.85it/s]"
     ]
    },
    {
     "name": "stdout",
     "output_type": "stream",
     "text": [
      "Average loss over epoch 36: 0.6176\n"
     ]
    },
    {
     "name": "stderr",
     "output_type": "stream",
     "text": [
      " 74%|███████████████████████████████████████████████▎                | 37/50 [00:13<00:04,  2.77it/s]"
     ]
    },
    {
     "name": "stdout",
     "output_type": "stream",
     "text": [
      "Average loss over epoch 37: 0.6403\n"
     ]
    },
    {
     "name": "stderr",
     "output_type": "stream",
     "text": [
      " 76%|████████████████████████████████████████████████▋               | 38/50 [00:14<00:04,  2.79it/s]"
     ]
    },
    {
     "name": "stdout",
     "output_type": "stream",
     "text": [
      "Average loss over epoch 38: 0.5030\n"
     ]
    },
    {
     "name": "stderr",
     "output_type": "stream",
     "text": [
      " 78%|█████████████████████████████████████████████████▉              | 39/50 [00:14<00:03,  2.80it/s]"
     ]
    },
    {
     "name": "stdout",
     "output_type": "stream",
     "text": [
      "Average loss over epoch 39: 0.6863\n"
     ]
    },
    {
     "name": "stderr",
     "output_type": "stream",
     "text": [
      " 80%|███████████████████████████████████████████████████▏            | 40/50 [00:14<00:03,  2.80it/s]"
     ]
    },
    {
     "name": "stdout",
     "output_type": "stream",
     "text": [
      "Average loss over epoch 40: 0.7167\n"
     ]
    },
    {
     "name": "stderr",
     "output_type": "stream",
     "text": [
      " 82%|████████████████████████████████████████████████████▍           | 41/50 [00:15<00:03,  2.83it/s]"
     ]
    },
    {
     "name": "stdout",
     "output_type": "stream",
     "text": [
      "Average loss over epoch 41: 0.6633\n"
     ]
    },
    {
     "name": "stderr",
     "output_type": "stream",
     "text": [
      " 84%|█████████████████████████████████████████████████████▊          | 42/50 [00:15<00:02,  2.84it/s]"
     ]
    },
    {
     "name": "stdout",
     "output_type": "stream",
     "text": [
      "Average loss over epoch 42: 0.6943\n"
     ]
    },
    {
     "name": "stderr",
     "output_type": "stream",
     "text": [
      " 86%|███████████████████████████████████████████████████████         | 43/50 [00:15<00:02,  2.81it/s]"
     ]
    },
    {
     "name": "stdout",
     "output_type": "stream",
     "text": [
      "Average loss over epoch 43: 0.5517\n"
     ]
    },
    {
     "name": "stderr",
     "output_type": "stream",
     "text": [
      " 88%|████████████████████████████████████████████████████████▎       | 44/50 [00:16<00:02,  2.71it/s]"
     ]
    },
    {
     "name": "stdout",
     "output_type": "stream",
     "text": [
      "Average loss over epoch 44: 0.5467\n"
     ]
    },
    {
     "name": "stderr",
     "output_type": "stream",
     "text": [
      " 90%|█████████████████████████████████████████████████████████▌      | 45/50 [00:16<00:01,  2.73it/s]"
     ]
    },
    {
     "name": "stdout",
     "output_type": "stream",
     "text": [
      "Average loss over epoch 45: 0.5543\n"
     ]
    },
    {
     "name": "stderr",
     "output_type": "stream",
     "text": [
      " 92%|██████████████████████████████████████████████████████████▉     | 46/50 [00:17<00:01,  2.77it/s]"
     ]
    },
    {
     "name": "stdout",
     "output_type": "stream",
     "text": [
      "Average loss over epoch 46: 0.6806\n"
     ]
    },
    {
     "name": "stderr",
     "output_type": "stream",
     "text": [
      " 94%|████████████████████████████████████████████████████████████▏   | 47/50 [00:17<00:01,  2.77it/s]"
     ]
    },
    {
     "name": "stdout",
     "output_type": "stream",
     "text": [
      "Average loss over epoch 47: 0.7100\n"
     ]
    },
    {
     "name": "stderr",
     "output_type": "stream",
     "text": [
      " 96%|█████████████████████████████████████████████████████████████▍  | 48/50 [00:17<00:00,  2.79it/s]"
     ]
    },
    {
     "name": "stdout",
     "output_type": "stream",
     "text": [
      "Average loss over epoch 48: 0.7073\n"
     ]
    },
    {
     "name": "stderr",
     "output_type": "stream",
     "text": [
      " 98%|██████████████████████████████████████████████████████████████▋ | 49/50 [00:18<00:00,  2.80it/s]"
     ]
    },
    {
     "name": "stdout",
     "output_type": "stream",
     "text": [
      "Average loss over epoch 49: 0.6000\n"
     ]
    },
    {
     "name": "stderr",
     "output_type": "stream",
     "text": [
      "100%|████████████████████████████████████████████████████████████████| 50/50 [00:18<00:00,  2.71it/s]"
     ]
    },
    {
     "name": "stdout",
     "output_type": "stream",
     "text": [
      "Average loss over epoch 50: 0.7265\n",
      "Accuracy: 50.0%\n"
     ]
    },
    {
     "name": "stderr",
     "output_type": "stream",
     "text": [
      "\n"
     ]
    },
    {
     "data": {
      "text/html": [
       "<style>\n",
       "    table.wandb td:nth-child(1) { padding: 0 10px; text-align: left ; width: auto;} td:nth-child(2) {text-align: left ; width: 100%}\n",
       "    .wandb-row { display: flex; flex-direction: row; flex-wrap: wrap; justify-content: flex-start; width: 100% }\n",
       "    .wandb-col { display: flex; flex-direction: column; flex-basis: 100%; flex: 1; padding: 10px; }\n",
       "    </style>\n",
       "<div class=\"wandb-row\"><div class=\"wandb-col\"><h3>Run history:</h3><br/><table class=\"wandb\"><tr><td>accuracy</td><td>▁</td></tr></table><br/></div><div class=\"wandb-col\"><h3>Run summary:</h3><br/><table class=\"wandb\"><tr><td>accuracy</td><td>50.0</td></tr></table><br/></div></div>"
      ],
      "text/plain": [
       "<IPython.core.display.HTML object>"
      ]
     },
     "metadata": {},
     "output_type": "display_data"
    },
    {
     "data": {
      "text/html": [
       " View run <strong style=\"color:#cdcd00\">celestial-sweep-3</strong> at: <a href='https://wandb.ai/quantum_kets/QPNNTRAINSWEEP_iris_linear/runs/wlq33ymc' target=\"_blank\">https://wandb.ai/quantum_kets/QPNNTRAINSWEEP_iris_linear/runs/wlq33ymc</a><br/> View project at: <a href='https://wandb.ai/quantum_kets/QPNNTRAINSWEEP_iris_linear' target=\"_blank\">https://wandb.ai/quantum_kets/QPNNTRAINSWEEP_iris_linear</a><br/>Synced 6 W&B file(s), 0 media file(s), 0 artifact file(s) and 0 other file(s)"
      ],
      "text/plain": [
       "<IPython.core.display.HTML object>"
      ]
     },
     "metadata": {},
     "output_type": "display_data"
    },
    {
     "data": {
      "text/html": [
       "Find logs at: <code>.\\wandb\\run-20240628_010735-wlq33ymc\\logs</code>"
      ],
      "text/plain": [
       "<IPython.core.display.HTML object>"
      ]
     },
     "metadata": {},
     "output_type": "display_data"
    },
    {
     "data": {
      "text/html": [
       "The new W&B backend becomes opt-out in version 0.18.0; try it out with `wandb.require(\"core\")`! See https://wandb.me/wandb-core for more information."
      ],
      "text/plain": [
       "<IPython.core.display.HTML object>"
      ]
     },
     "metadata": {},
     "output_type": "display_data"
    },
    {
     "name": "stderr",
     "output_type": "stream",
     "text": [
      "\u001B[34m\u001B[1mwandb\u001B[0m: Agent Starting Run: pqvuaztq with config:\n",
      "\u001B[34m\u001B[1mwandb\u001B[0m: \tbatch_size: 0\n",
      "\u001B[34m\u001B[1mwandb\u001B[0m: \tepochs: 10\n",
      "\u001B[34m\u001B[1mwandb\u001B[0m: \tlearning_rate: 0.438943436152263\n"
     ]
    },
    {
     "name": "stdout",
     "output_type": "stream",
     "text": [
      "Getting dataset:  {'iris_linear'}\n",
      "[5, 5, 2]\n",
      "5\n"
     ]
    },
    {
     "data": {
      "text/html": [
       "wandb version 0.17.3 is available!  To upgrade, please run:\n",
       " $ pip install wandb --upgrade"
      ],
      "text/plain": [
       "<IPython.core.display.HTML object>"
      ]
     },
     "metadata": {},
     "output_type": "display_data"
    },
    {
     "data": {
      "text/html": [
       "Tracking run with wandb version 0.17.2"
      ],
      "text/plain": [
       "<IPython.core.display.HTML object>"
      ]
     },
     "metadata": {},
     "output_type": "display_data"
    },
    {
     "data": {
      "text/html": [
       "Run data is saved locally in <code>C:\\Users\\giaco\\wandb\\run-20240628_010812-pqvuaztq</code>"
      ],
      "text/plain": [
       "<IPython.core.display.HTML object>"
      ]
     },
     "metadata": {},
     "output_type": "display_data"
    },
    {
     "data": {
      "text/html": [
       "Syncing run <strong><a href='https://wandb.ai/quantum_kets/QPNNTRAINSWEEP_iris_linear/runs/pqvuaztq' target=\"_blank\">azure-sweep-4</a></strong> to <a href='https://wandb.ai/quantum_kets/QPNNTRAINSWEEP_iris_linear' target=\"_blank\">Weights & Biases</a> (<a href='https://wandb.me/run' target=\"_blank\">docs</a>)<br/>Sweep page: <a href='https://wandb.ai/quantum_kets/QPNNTRAINSWEEP_iris_linear/sweeps/2s8aes02' target=\"_blank\">https://wandb.ai/quantum_kets/QPNNTRAINSWEEP_iris_linear/sweeps/2s8aes02</a>"
      ],
      "text/plain": [
       "<IPython.core.display.HTML object>"
      ]
     },
     "metadata": {},
     "output_type": "display_data"
    },
    {
     "data": {
      "text/html": [
       " View project at <a href='https://wandb.ai/quantum_kets/QPNNTRAINSWEEP_iris_linear' target=\"_blank\">https://wandb.ai/quantum_kets/QPNNTRAINSWEEP_iris_linear</a>"
      ],
      "text/plain": [
       "<IPython.core.display.HTML object>"
      ]
     },
     "metadata": {},
     "output_type": "display_data"
    },
    {
     "data": {
      "text/html": [
       " View sweep at <a href='https://wandb.ai/quantum_kets/QPNNTRAINSWEEP_iris_linear/sweeps/2s8aes02' target=\"_blank\">https://wandb.ai/quantum_kets/QPNNTRAINSWEEP_iris_linear/sweeps/2s8aes02</a>"
      ],
      "text/plain": [
       "<IPython.core.display.HTML object>"
      ]
     },
     "metadata": {},
     "output_type": "display_data"
    },
    {
     "data": {
      "text/html": [
       " View run at <a href='https://wandb.ai/quantum_kets/QPNNTRAINSWEEP_iris_linear/runs/pqvuaztq' target=\"_blank\">https://wandb.ai/quantum_kets/QPNNTRAINSWEEP_iris_linear/runs/pqvuaztq</a>"
      ],
      "text/plain": [
       "<IPython.core.display.HTML object>"
      ]
     },
     "metadata": {},
     "output_type": "display_data"
    },
    {
     "name": "stderr",
     "output_type": "stream",
     "text": [
      "C:\\Users\\giaco\\AppData\\Local\\Temp\\ipykernel_34432\\1563909084.py:86: UserWarning: To copy construct from a tensor, it is recommended to use sourceTensor.clone().detach() or sourceTensor.clone().detach().requires_grad_(True), rather than torch.tensor(sourceTensor).\n",
      "  y = torch.tensor(self.y, requires_grad=False).float()\n"
     ]
    },
    {
     "data": {
      "text/html": [
       " View run <strong style=\"color:#cdcd00\">azure-sweep-4</strong> at: <a href='https://wandb.ai/quantum_kets/QPNNTRAINSWEEP_iris_linear/runs/pqvuaztq' target=\"_blank\">https://wandb.ai/quantum_kets/QPNNTRAINSWEEP_iris_linear/runs/pqvuaztq</a><br/> View project at: <a href='https://wandb.ai/quantum_kets/QPNNTRAINSWEEP_iris_linear' target=\"_blank\">https://wandb.ai/quantum_kets/QPNNTRAINSWEEP_iris_linear</a><br/>Synced 6 W&B file(s), 0 media file(s), 0 artifact file(s) and 0 other file(s)"
      ],
      "text/plain": [
       "<IPython.core.display.HTML object>"
      ]
     },
     "metadata": {},
     "output_type": "display_data"
    },
    {
     "data": {
      "text/html": [
       "Find logs at: <code>.\\wandb\\run-20240628_010812-pqvuaztq\\logs</code>"
      ],
      "text/plain": [
       "<IPython.core.display.HTML object>"
      ]
     },
     "metadata": {},
     "output_type": "display_data"
    },
    {
     "data": {
      "text/html": [
       "The new W&B backend becomes opt-out in version 0.18.0; try it out with `wandb.require(\"core\")`! See https://wandb.me/wandb-core for more information."
      ],
      "text/plain": [
       "<IPython.core.display.HTML object>"
      ]
     },
     "metadata": {},
     "output_type": "display_data"
    },
    {
     "name": "stderr",
     "output_type": "stream",
     "text": [
      "Run pqvuaztq errored:\n",
      "Traceback (most recent call last):\n",
      "  File \"C:\\Users\\giaco\\anaconda3\\envs\\qiskit46\\Lib\\site-packages\\wandb\\agents\\pyagent.py\", line 307, in _run_job\n",
      "    self._function()\n",
      "  File \"C:\\Users\\giaco\\AppData\\Local\\Temp\\ipykernel_34432\\2044167743.py\", line 4, in main\n",
      "    net.train()\n",
      "  File \"C:\\Users\\giaco\\AppData\\Local\\Temp\\ipykernel_34432\\1563909084.py\", line 92, in train\n",
      "    batches = len(y) // batch_size\n",
      "              ~~~~~~~^^~~~~~~~~~~~\n",
      "ZeroDivisionError: integer division or modulo by zero\n",
      "\n",
      "\u001B[34m\u001B[1mwandb\u001B[0m: \u001B[32m\u001B[41mERROR\u001B[0m Run pqvuaztq errored:\n",
      "\u001B[34m\u001B[1mwandb\u001B[0m: \u001B[32m\u001B[41mERROR\u001B[0m Traceback (most recent call last):\n",
      "\u001B[34m\u001B[1mwandb\u001B[0m: \u001B[32m\u001B[41mERROR\u001B[0m   File \"C:\\Users\\giaco\\anaconda3\\envs\\qiskit46\\Lib\\site-packages\\wandb\\agents\\pyagent.py\", line 307, in _run_job\n",
      "\u001B[34m\u001B[1mwandb\u001B[0m: \u001B[32m\u001B[41mERROR\u001B[0m     self._function()\n",
      "\u001B[34m\u001B[1mwandb\u001B[0m: \u001B[32m\u001B[41mERROR\u001B[0m   File \"C:\\Users\\giaco\\AppData\\Local\\Temp\\ipykernel_34432\\2044167743.py\", line 4, in main\n",
      "\u001B[34m\u001B[1mwandb\u001B[0m: \u001B[32m\u001B[41mERROR\u001B[0m     net.train()\n",
      "\u001B[34m\u001B[1mwandb\u001B[0m: \u001B[32m\u001B[41mERROR\u001B[0m   File \"C:\\Users\\giaco\\AppData\\Local\\Temp\\ipykernel_34432\\1563909084.py\", line 92, in train\n",
      "\u001B[34m\u001B[1mwandb\u001B[0m: \u001B[32m\u001B[41mERROR\u001B[0m     batches = len(y) // batch_size\n",
      "\u001B[34m\u001B[1mwandb\u001B[0m: \u001B[32m\u001B[41mERROR\u001B[0m               ~~~~~~~^^~~~~~~~~~~~\n",
      "\u001B[34m\u001B[1mwandb\u001B[0m: \u001B[32m\u001B[41mERROR\u001B[0m ZeroDivisionError: integer division or modulo by zero\n",
      "\u001B[34m\u001B[1mwandb\u001B[0m: \u001B[32m\u001B[41mERROR\u001B[0m \n",
      "\u001B[34m\u001B[1mwandb\u001B[0m: Agent Starting Run: lgkm3wgf with config:\n",
      "\u001B[34m\u001B[1mwandb\u001B[0m: \tbatch_size: 24\n",
      "\u001B[34m\u001B[1mwandb\u001B[0m: \tepochs: 1000\n",
      "\u001B[34m\u001B[1mwandb\u001B[0m: \tlearning_rate: 0.4726361562895564\n"
     ]
    },
    {
     "name": "stdout",
     "output_type": "stream",
     "text": [
      "Getting dataset:  {'iris_linear'}\n",
      "[5, 5, 2]\n",
      "5\n"
     ]
    },
    {
     "data": {
      "text/html": [
       "wandb version 0.17.3 is available!  To upgrade, please run:\n",
       " $ pip install wandb --upgrade"
      ],
      "text/plain": [
       "<IPython.core.display.HTML object>"
      ]
     },
     "metadata": {},
     "output_type": "display_data"
    },
    {
     "data": {
      "text/html": [
       "Tracking run with wandb version 0.17.2"
      ],
      "text/plain": [
       "<IPython.core.display.HTML object>"
      ]
     },
     "metadata": {},
     "output_type": "display_data"
    },
    {
     "data": {
      "text/html": [
       "Run data is saved locally in <code>C:\\Users\\giaco\\wandb\\run-20240628_010828-lgkm3wgf</code>"
      ],
      "text/plain": [
       "<IPython.core.display.HTML object>"
      ]
     },
     "metadata": {},
     "output_type": "display_data"
    },
    {
     "data": {
      "text/html": [
       "Syncing run <strong><a href='https://wandb.ai/quantum_kets/QPNNTRAINSWEEP_iris_linear/runs/lgkm3wgf' target=\"_blank\">silvery-sweep-5</a></strong> to <a href='https://wandb.ai/quantum_kets/QPNNTRAINSWEEP_iris_linear' target=\"_blank\">Weights & Biases</a> (<a href='https://wandb.me/run' target=\"_blank\">docs</a>)<br/>Sweep page: <a href='https://wandb.ai/quantum_kets/QPNNTRAINSWEEP_iris_linear/sweeps/2s8aes02' target=\"_blank\">https://wandb.ai/quantum_kets/QPNNTRAINSWEEP_iris_linear/sweeps/2s8aes02</a>"
      ],
      "text/plain": [
       "<IPython.core.display.HTML object>"
      ]
     },
     "metadata": {},
     "output_type": "display_data"
    },
    {
     "data": {
      "text/html": [
       " View project at <a href='https://wandb.ai/quantum_kets/QPNNTRAINSWEEP_iris_linear' target=\"_blank\">https://wandb.ai/quantum_kets/QPNNTRAINSWEEP_iris_linear</a>"
      ],
      "text/plain": [
       "<IPython.core.display.HTML object>"
      ]
     },
     "metadata": {},
     "output_type": "display_data"
    },
    {
     "data": {
      "text/html": [
       " View sweep at <a href='https://wandb.ai/quantum_kets/QPNNTRAINSWEEP_iris_linear/sweeps/2s8aes02' target=\"_blank\">https://wandb.ai/quantum_kets/QPNNTRAINSWEEP_iris_linear/sweeps/2s8aes02</a>"
      ],
      "text/plain": [
       "<IPython.core.display.HTML object>"
      ]
     },
     "metadata": {},
     "output_type": "display_data"
    },
    {
     "data": {
      "text/html": [
       " View run at <a href='https://wandb.ai/quantum_kets/QPNNTRAINSWEEP_iris_linear/runs/lgkm3wgf' target=\"_blank\">https://wandb.ai/quantum_kets/QPNNTRAINSWEEP_iris_linear/runs/lgkm3wgf</a>"
      ],
      "text/plain": [
       "<IPython.core.display.HTML object>"
      ]
     },
     "metadata": {},
     "output_type": "display_data"
    },
    {
     "name": "stderr",
     "output_type": "stream",
     "text": [
      "C:\\Users\\giaco\\AppData\\Local\\Temp\\ipykernel_34432\\1563909084.py:86: UserWarning: To copy construct from a tensor, it is recommended to use sourceTensor.clone().detach() or sourceTensor.clone().detach().requires_grad_(True), rather than torch.tensor(sourceTensor).\n",
      "  y = torch.tensor(self.y, requires_grad=False).float()\n",
      "  0%|                                                               | 1/1000 [00:00<08:33,  1.94it/s]"
     ]
    },
    {
     "name": "stdout",
     "output_type": "stream",
     "text": [
      "Average loss over epoch 1: 0.7684\n"
     ]
    },
    {
     "name": "stderr",
     "output_type": "stream",
     "text": [
      "  0%|▏                                                              | 2/1000 [00:00<08:13,  2.02it/s]"
     ]
    },
    {
     "name": "stdout",
     "output_type": "stream",
     "text": [
      "Average loss over epoch 2: 0.6985\n"
     ]
    },
    {
     "name": "stderr",
     "output_type": "stream",
     "text": [
      "  0%|▏                                                              | 3/1000 [00:01<07:57,  2.09it/s]"
     ]
    },
    {
     "name": "stdout",
     "output_type": "stream",
     "text": [
      "Average loss over epoch 3: 0.6949\n"
     ]
    },
    {
     "name": "stderr",
     "output_type": "stream",
     "text": [
      "  0%|▎                                                              | 4/1000 [00:01<07:23,  2.25it/s]"
     ]
    },
    {
     "name": "stdout",
     "output_type": "stream",
     "text": [
      "Average loss over epoch 4: 0.6964\n"
     ]
    },
    {
     "name": "stderr",
     "output_type": "stream",
     "text": [
      "  0%|▎                                                              | 5/1000 [00:02<07:01,  2.36it/s]"
     ]
    },
    {
     "name": "stdout",
     "output_type": "stream",
     "text": [
      "Average loss over epoch 5: 0.6956\n"
     ]
    },
    {
     "name": "stderr",
     "output_type": "stream",
     "text": [
      "  1%|▍                                                              | 6/1000 [00:02<06:39,  2.49it/s]"
     ]
    },
    {
     "name": "stdout",
     "output_type": "stream",
     "text": [
      "Average loss over epoch 6: 0.6943\n"
     ]
    },
    {
     "name": "stderr",
     "output_type": "stream",
     "text": [
      "  1%|▍                                                              | 7/1000 [00:02<06:21,  2.60it/s]"
     ]
    },
    {
     "name": "stdout",
     "output_type": "stream",
     "text": [
      "Average loss over epoch 7: 0.6955\n"
     ]
    },
    {
     "name": "stderr",
     "output_type": "stream",
     "text": [
      "  1%|▌                                                              | 8/1000 [00:03<06:06,  2.71it/s]"
     ]
    },
    {
     "name": "stdout",
     "output_type": "stream",
     "text": [
      "Average loss over epoch 8: 0.6953\n"
     ]
    },
    {
     "name": "stderr",
     "output_type": "stream",
     "text": [
      "  1%|▌                                                              | 9/1000 [00:03<05:58,  2.77it/s]"
     ]
    },
    {
     "name": "stdout",
     "output_type": "stream",
     "text": [
      "Average loss over epoch 9: 0.6986\n"
     ]
    },
    {
     "name": "stderr",
     "output_type": "stream",
     "text": [
      "  1%|▌                                                             | 10/1000 [00:03<06:02,  2.73it/s]"
     ]
    },
    {
     "name": "stdout",
     "output_type": "stream",
     "text": [
      "Average loss over epoch 10: 0.6974\n"
     ]
    },
    {
     "name": "stderr",
     "output_type": "stream",
     "text": [
      "  1%|▋                                                             | 11/1000 [00:04<05:58,  2.76it/s]"
     ]
    },
    {
     "name": "stdout",
     "output_type": "stream",
     "text": [
      "Average loss over epoch 11: 0.6973\n"
     ]
    },
    {
     "name": "stderr",
     "output_type": "stream",
     "text": [
      "  1%|▋                                                             | 12/1000 [00:04<05:57,  2.76it/s]"
     ]
    },
    {
     "name": "stdout",
     "output_type": "stream",
     "text": [
      "Average loss over epoch 12: 0.6952\n"
     ]
    },
    {
     "name": "stderr",
     "output_type": "stream",
     "text": [
      "  1%|▊                                                             | 13/1000 [00:05<05:55,  2.78it/s]"
     ]
    },
    {
     "name": "stdout",
     "output_type": "stream",
     "text": [
      "Average loss over epoch 13: 0.6941\n"
     ]
    },
    {
     "name": "stderr",
     "output_type": "stream",
     "text": [
      "  1%|▊                                                             | 14/1000 [00:05<05:51,  2.80it/s]"
     ]
    },
    {
     "name": "stdout",
     "output_type": "stream",
     "text": [
      "Average loss over epoch 14: 0.6947\n"
     ]
    },
    {
     "name": "stderr",
     "output_type": "stream",
     "text": [
      "  2%|▉                                                             | 15/1000 [00:05<05:49,  2.82it/s]"
     ]
    },
    {
     "name": "stdout",
     "output_type": "stream",
     "text": [
      "Average loss over epoch 15: 0.6944\n"
     ]
    },
    {
     "name": "stderr",
     "output_type": "stream",
     "text": [
      "  2%|▉                                                             | 16/1000 [00:06<05:51,  2.80it/s]"
     ]
    },
    {
     "name": "stdout",
     "output_type": "stream",
     "text": [
      "Average loss over epoch 16: 0.6942\n"
     ]
    },
    {
     "name": "stderr",
     "output_type": "stream",
     "text": [
      "  2%|█                                                             | 17/1000 [00:06<05:56,  2.76it/s]"
     ]
    },
    {
     "name": "stdout",
     "output_type": "stream",
     "text": [
      "Average loss over epoch 17: 0.6948\n"
     ]
    },
    {
     "name": "stderr",
     "output_type": "stream",
     "text": [
      "  2%|█                                                             | 18/1000 [00:06<05:57,  2.75it/s]"
     ]
    },
    {
     "name": "stdout",
     "output_type": "stream",
     "text": [
      "Average loss over epoch 18: 0.6945\n"
     ]
    },
    {
     "name": "stderr",
     "output_type": "stream",
     "text": [
      "  2%|█▏                                                            | 19/1000 [00:07<05:59,  2.73it/s]"
     ]
    },
    {
     "name": "stdout",
     "output_type": "stream",
     "text": [
      "Average loss over epoch 19: 0.6942\n"
     ]
    },
    {
     "name": "stderr",
     "output_type": "stream",
     "text": [
      "  2%|█▏                                                            | 20/1000 [00:07<05:58,  2.74it/s]"
     ]
    },
    {
     "name": "stdout",
     "output_type": "stream",
     "text": [
      "Average loss over epoch 20: 0.6936\n"
     ]
    },
    {
     "name": "stderr",
     "output_type": "stream",
     "text": [
      "  2%|█▎                                                            | 21/1000 [00:07<05:56,  2.75it/s]"
     ]
    },
    {
     "name": "stdout",
     "output_type": "stream",
     "text": [
      "Average loss over epoch 21: 0.6957\n"
     ]
    },
    {
     "name": "stderr",
     "output_type": "stream",
     "text": [
      "  2%|█▎                                                            | 22/1000 [00:08<05:51,  2.78it/s]"
     ]
    },
    {
     "name": "stdout",
     "output_type": "stream",
     "text": [
      "Average loss over epoch 22: 0.6977\n"
     ]
    },
    {
     "name": "stderr",
     "output_type": "stream",
     "text": [
      "  2%|█▍                                                            | 23/1000 [00:08<05:52,  2.77it/s]"
     ]
    },
    {
     "name": "stdout",
     "output_type": "stream",
     "text": [
      "Average loss over epoch 23: 0.6942\n"
     ]
    },
    {
     "name": "stderr",
     "output_type": "stream",
     "text": [
      "  2%|█▍                                                            | 24/1000 [00:09<05:50,  2.78it/s]"
     ]
    },
    {
     "name": "stdout",
     "output_type": "stream",
     "text": [
      "Average loss over epoch 24: 0.6955\n"
     ]
    },
    {
     "name": "stderr",
     "output_type": "stream",
     "text": [
      "  2%|█▌                                                            | 25/1000 [00:09<05:49,  2.79it/s]"
     ]
    },
    {
     "name": "stdout",
     "output_type": "stream",
     "text": [
      "Average loss over epoch 25: 0.6948\n"
     ]
    },
    {
     "name": "stderr",
     "output_type": "stream",
     "text": [
      "  3%|█▌                                                            | 26/1000 [00:09<05:49,  2.78it/s]"
     ]
    },
    {
     "name": "stdout",
     "output_type": "stream",
     "text": [
      "Average loss over epoch 26: 0.6957\n"
     ]
    },
    {
     "name": "stderr",
     "output_type": "stream",
     "text": [
      "  3%|█▋                                                            | 27/1000 [00:10<05:49,  2.79it/s]"
     ]
    },
    {
     "name": "stdout",
     "output_type": "stream",
     "text": [
      "Average loss over epoch 27: 0.7005\n"
     ]
    },
    {
     "name": "stderr",
     "output_type": "stream",
     "text": [
      "  3%|█▋                                                            | 28/1000 [00:10<05:43,  2.83it/s]"
     ]
    },
    {
     "name": "stdout",
     "output_type": "stream",
     "text": [
      "Average loss over epoch 28: 0.6957\n"
     ]
    },
    {
     "name": "stderr",
     "output_type": "stream",
     "text": [
      "  3%|█▊                                                            | 29/1000 [00:10<05:44,  2.82it/s]"
     ]
    },
    {
     "name": "stdout",
     "output_type": "stream",
     "text": [
      "Average loss over epoch 29: 0.6934\n"
     ]
    },
    {
     "name": "stderr",
     "output_type": "stream",
     "text": [
      "  3%|█▊                                                            | 30/1000 [00:11<05:47,  2.79it/s]"
     ]
    },
    {
     "name": "stdout",
     "output_type": "stream",
     "text": [
      "Average loss over epoch 30: 0.6986\n"
     ]
    },
    {
     "name": "stderr",
     "output_type": "stream",
     "text": [
      "  3%|█▉                                                            | 31/1000 [00:11<05:55,  2.73it/s]"
     ]
    },
    {
     "name": "stdout",
     "output_type": "stream",
     "text": [
      "Average loss over epoch 31: 0.6945\n"
     ]
    },
    {
     "name": "stderr",
     "output_type": "stream",
     "text": [
      "  3%|█▉                                                            | 32/1000 [00:11<05:55,  2.73it/s]"
     ]
    },
    {
     "name": "stdout",
     "output_type": "stream",
     "text": [
      "Average loss over epoch 32: 0.6939\n"
     ]
    },
    {
     "name": "stderr",
     "output_type": "stream",
     "text": [
      "  3%|██                                                            | 33/1000 [00:12<05:56,  2.72it/s]"
     ]
    },
    {
     "name": "stdout",
     "output_type": "stream",
     "text": [
      "Average loss over epoch 33: 0.6939\n"
     ]
    },
    {
     "name": "stderr",
     "output_type": "stream",
     "text": [
      "  3%|██                                                            | 34/1000 [00:12<05:53,  2.73it/s]"
     ]
    },
    {
     "name": "stdout",
     "output_type": "stream",
     "text": [
      "Average loss over epoch 34: 0.6954\n"
     ]
    },
    {
     "name": "stderr",
     "output_type": "stream",
     "text": [
      "  4%|██▏                                                           | 35/1000 [00:13<05:58,  2.69it/s]"
     ]
    },
    {
     "name": "stdout",
     "output_type": "stream",
     "text": [
      "Average loss over epoch 35: 0.6952\n"
     ]
    },
    {
     "name": "stderr",
     "output_type": "stream",
     "text": [
      "  4%|██▏                                                           | 36/1000 [00:13<05:58,  2.69it/s]"
     ]
    },
    {
     "name": "stdout",
     "output_type": "stream",
     "text": [
      "Average loss over epoch 36: 0.6933\n"
     ]
    },
    {
     "name": "stderr",
     "output_type": "stream",
     "text": [
      "  4%|██▎                                                           | 37/1000 [00:13<05:52,  2.73it/s]"
     ]
    },
    {
     "name": "stdout",
     "output_type": "stream",
     "text": [
      "Average loss over epoch 37: 0.6943\n"
     ]
    },
    {
     "name": "stderr",
     "output_type": "stream",
     "text": [
      "  4%|██▎                                                           | 38/1000 [00:14<05:52,  2.73it/s]"
     ]
    },
    {
     "name": "stdout",
     "output_type": "stream",
     "text": [
      "Average loss over epoch 38: 0.6939\n"
     ]
    },
    {
     "name": "stderr",
     "output_type": "stream",
     "text": [
      "  4%|██▍                                                           | 39/1000 [00:14<05:54,  2.71it/s]"
     ]
    },
    {
     "name": "stdout",
     "output_type": "stream",
     "text": [
      "Average loss over epoch 39: 0.6949\n"
     ]
    },
    {
     "name": "stderr",
     "output_type": "stream",
     "text": [
      "  4%|██▍                                                           | 40/1000 [00:14<05:52,  2.72it/s]"
     ]
    },
    {
     "name": "stdout",
     "output_type": "stream",
     "text": [
      "Average loss over epoch 40: 0.6946\n"
     ]
    },
    {
     "name": "stderr",
     "output_type": "stream",
     "text": [
      "  4%|██▌                                                           | 41/1000 [00:15<05:48,  2.75it/s]"
     ]
    },
    {
     "name": "stdout",
     "output_type": "stream",
     "text": [
      "Average loss over epoch 41: 0.6942\n"
     ]
    },
    {
     "name": "stderr",
     "output_type": "stream",
     "text": [
      "  4%|██▌                                                           | 42/1000 [00:15<05:45,  2.77it/s]"
     ]
    },
    {
     "name": "stdout",
     "output_type": "stream",
     "text": [
      "Average loss over epoch 42: 0.6955\n"
     ]
    },
    {
     "name": "stderr",
     "output_type": "stream",
     "text": [
      "  4%|██▋                                                           | 43/1000 [00:15<05:43,  2.78it/s]"
     ]
    },
    {
     "name": "stdout",
     "output_type": "stream",
     "text": [
      "Average loss over epoch 43: 0.6969\n"
     ]
    },
    {
     "name": "stderr",
     "output_type": "stream",
     "text": [
      "  4%|██▋                                                           | 44/1000 [00:16<05:54,  2.70it/s]"
     ]
    },
    {
     "name": "stdout",
     "output_type": "stream",
     "text": [
      "Average loss over epoch 44: 0.6942\n"
     ]
    },
    {
     "name": "stderr",
     "output_type": "stream",
     "text": [
      "  4%|██▊                                                           | 45/1000 [00:16<06:07,  2.60it/s]"
     ]
    },
    {
     "name": "stdout",
     "output_type": "stream",
     "text": [
      "Average loss over epoch 45: 0.6938\n"
     ]
    },
    {
     "name": "stderr",
     "output_type": "stream",
     "text": [
      "  5%|██▊                                                           | 46/1000 [00:17<06:08,  2.59it/s]"
     ]
    },
    {
     "name": "stdout",
     "output_type": "stream",
     "text": [
      "Average loss over epoch 46: 0.6953\n"
     ]
    },
    {
     "name": "stderr",
     "output_type": "stream",
     "text": [
      "  5%|██▉                                                           | 47/1000 [00:17<06:09,  2.58it/s]"
     ]
    },
    {
     "name": "stdout",
     "output_type": "stream",
     "text": [
      "Average loss over epoch 47: 0.6945\n"
     ]
    },
    {
     "name": "stderr",
     "output_type": "stream",
     "text": [
      "  5%|██▉                                                           | 48/1000 [00:17<06:20,  2.50it/s]"
     ]
    },
    {
     "name": "stdout",
     "output_type": "stream",
     "text": [
      "Average loss over epoch 48: 0.6931\n"
     ]
    },
    {
     "name": "stderr",
     "output_type": "stream",
     "text": [
      "  5%|███                                                           | 49/1000 [00:18<06:21,  2.49it/s]"
     ]
    },
    {
     "name": "stdout",
     "output_type": "stream",
     "text": [
      "Average loss over epoch 49: 0.6948\n"
     ]
    },
    {
     "name": "stderr",
     "output_type": "stream",
     "text": [
      "  5%|███                                                           | 50/1000 [00:18<06:08,  2.58it/s]"
     ]
    },
    {
     "name": "stdout",
     "output_type": "stream",
     "text": [
      "Average loss over epoch 50: 0.6952\n"
     ]
    },
    {
     "name": "stderr",
     "output_type": "stream",
     "text": [
      "  5%|███▏                                                          | 51/1000 [00:19<05:54,  2.68it/s]"
     ]
    },
    {
     "name": "stdout",
     "output_type": "stream",
     "text": [
      "Average loss over epoch 51: 0.6945\n"
     ]
    },
    {
     "name": "stderr",
     "output_type": "stream",
     "text": [
      "  5%|███▏                                                          | 52/1000 [00:19<05:50,  2.71it/s]"
     ]
    },
    {
     "name": "stdout",
     "output_type": "stream",
     "text": [
      "Average loss over epoch 52: 0.6942\n"
     ]
    },
    {
     "name": "stderr",
     "output_type": "stream",
     "text": [
      "  5%|███▎                                                          | 53/1000 [00:19<05:46,  2.73it/s]"
     ]
    },
    {
     "name": "stdout",
     "output_type": "stream",
     "text": [
      "Average loss over epoch 53: 0.6926\n"
     ]
    },
    {
     "name": "stderr",
     "output_type": "stream",
     "text": [
      "  5%|███▎                                                          | 54/1000 [00:20<05:44,  2.75it/s]"
     ]
    },
    {
     "name": "stdout",
     "output_type": "stream",
     "text": [
      "Average loss over epoch 54: 0.6981\n"
     ]
    },
    {
     "name": "stderr",
     "output_type": "stream",
     "text": [
      "  6%|███▍                                                          | 55/1000 [00:20<05:41,  2.77it/s]"
     ]
    },
    {
     "name": "stdout",
     "output_type": "stream",
     "text": [
      "Average loss over epoch 55: 0.6928\n"
     ]
    },
    {
     "name": "stderr",
     "output_type": "stream",
     "text": [
      "  6%|███▍                                                          | 56/1000 [00:20<05:43,  2.75it/s]"
     ]
    },
    {
     "name": "stdout",
     "output_type": "stream",
     "text": [
      "Average loss over epoch 56: 0.6941\n"
     ]
    },
    {
     "name": "stderr",
     "output_type": "stream",
     "text": [
      "  6%|███▌                                                          | 57/1000 [00:21<05:40,  2.77it/s]"
     ]
    },
    {
     "name": "stdout",
     "output_type": "stream",
     "text": [
      "Average loss over epoch 57: 0.6931\n"
     ]
    },
    {
     "name": "stderr",
     "output_type": "stream",
     "text": [
      "  6%|███▌                                                          | 58/1000 [00:21<05:38,  2.78it/s]"
     ]
    },
    {
     "name": "stdout",
     "output_type": "stream",
     "text": [
      "Average loss over epoch 58: 0.6951\n"
     ]
    },
    {
     "name": "stderr",
     "output_type": "stream",
     "text": [
      "  6%|███▋                                                          | 59/1000 [00:21<05:36,  2.80it/s]"
     ]
    },
    {
     "name": "stdout",
     "output_type": "stream",
     "text": [
      "Average loss over epoch 59: 0.6927\n"
     ]
    },
    {
     "name": "stderr",
     "output_type": "stream",
     "text": [
      "  6%|███▋                                                          | 60/1000 [00:22<05:36,  2.79it/s]"
     ]
    },
    {
     "name": "stdout",
     "output_type": "stream",
     "text": [
      "Average loss over epoch 60: 0.6900\n"
     ]
    },
    {
     "name": "stderr",
     "output_type": "stream",
     "text": [
      "  6%|███▊                                                          | 61/1000 [00:22<05:40,  2.76it/s]"
     ]
    },
    {
     "name": "stdout",
     "output_type": "stream",
     "text": [
      "Average loss over epoch 61: 0.6348\n"
     ]
    },
    {
     "name": "stderr",
     "output_type": "stream",
     "text": [
      "  6%|███▊                                                          | 62/1000 [00:23<05:38,  2.77it/s]"
     ]
    },
    {
     "name": "stdout",
     "output_type": "stream",
     "text": [
      "Average loss over epoch 62: 0.5378\n"
     ]
    },
    {
     "name": "stderr",
     "output_type": "stream",
     "text": [
      "  6%|███▉                                                          | 63/1000 [00:23<05:38,  2.77it/s]"
     ]
    },
    {
     "name": "stdout",
     "output_type": "stream",
     "text": [
      "Average loss over epoch 63: 0.5240\n"
     ]
    },
    {
     "name": "stderr",
     "output_type": "stream",
     "text": [
      "  6%|███▉                                                          | 64/1000 [00:23<05:39,  2.76it/s]"
     ]
    },
    {
     "name": "stdout",
     "output_type": "stream",
     "text": [
      "Average loss over epoch 64: 0.5542\n"
     ]
    },
    {
     "name": "stderr",
     "output_type": "stream",
     "text": [
      "  6%|████                                                          | 65/1000 [00:24<05:41,  2.74it/s]"
     ]
    },
    {
     "name": "stdout",
     "output_type": "stream",
     "text": [
      "Average loss over epoch 65: 0.5114\n"
     ]
    },
    {
     "name": "stderr",
     "output_type": "stream",
     "text": [
      "  7%|████                                                          | 66/1000 [00:24<05:40,  2.74it/s]"
     ]
    },
    {
     "name": "stdout",
     "output_type": "stream",
     "text": [
      "Average loss over epoch 66: 0.5176\n"
     ]
    },
    {
     "name": "stderr",
     "output_type": "stream",
     "text": [
      "  7%|████▏                                                         | 67/1000 [00:24<05:37,  2.76it/s]"
     ]
    },
    {
     "name": "stdout",
     "output_type": "stream",
     "text": [
      "Average loss over epoch 67: 0.5457\n"
     ]
    },
    {
     "name": "stderr",
     "output_type": "stream",
     "text": [
      "  7%|████▏                                                         | 68/1000 [00:25<05:42,  2.72it/s]"
     ]
    },
    {
     "name": "stdout",
     "output_type": "stream",
     "text": [
      "Average loss over epoch 68: 0.5640\n"
     ]
    },
    {
     "name": "stderr",
     "output_type": "stream",
     "text": [
      "  7%|████▎                                                         | 69/1000 [00:25<05:39,  2.74it/s]"
     ]
    },
    {
     "name": "stdout",
     "output_type": "stream",
     "text": [
      "Average loss over epoch 69: 0.5844\n"
     ]
    },
    {
     "name": "stderr",
     "output_type": "stream",
     "text": [
      "  7%|████▎                                                         | 70/1000 [00:25<05:36,  2.77it/s]"
     ]
    },
    {
     "name": "stdout",
     "output_type": "stream",
     "text": [
      "Average loss over epoch 70: 0.4864\n"
     ]
    },
    {
     "name": "stderr",
     "output_type": "stream",
     "text": [
      "  7%|████▍                                                         | 71/1000 [00:26<05:37,  2.75it/s]"
     ]
    },
    {
     "name": "stdout",
     "output_type": "stream",
     "text": [
      "Average loss over epoch 71: 0.4865\n"
     ]
    },
    {
     "name": "stderr",
     "output_type": "stream",
     "text": [
      "  7%|████▍                                                         | 72/1000 [00:26<05:40,  2.73it/s]"
     ]
    },
    {
     "name": "stdout",
     "output_type": "stream",
     "text": [
      "Average loss over epoch 72: 0.4967\n"
     ]
    },
    {
     "name": "stderr",
     "output_type": "stream",
     "text": [
      "  7%|████▌                                                         | 73/1000 [00:27<05:44,  2.69it/s]"
     ]
    },
    {
     "name": "stdout",
     "output_type": "stream",
     "text": [
      "Average loss over epoch 73: 0.6318\n"
     ]
    },
    {
     "name": "stderr",
     "output_type": "stream",
     "text": [
      "  7%|████▌                                                         | 74/1000 [00:27<05:39,  2.73it/s]"
     ]
    }
   ],
   "source": [
    "wandb.agent(sweep_id, function=main, count=30)"
   ]
  },
  {
   "cell_type": "markdown",
   "id": "898585fc-badc-4d9e-9c2c-57cfff8e5428",
   "metadata": {},
   "source": [
    "Aggiungere roba nello sweep: ottimizzatore, structure ecc,dataset\n",
    "controllare xval,yval che danno fastidio a struct\n",
    "usare bayesian\n",
    "controllare perche ogni tanto batchsize diventa zero"
   ]
  },
  {
   "cell_type": "code",
   "execution_count": null,
   "id": "a5441e16-681b-4060-b6a4-54d33bd33cd4",
   "metadata": {},
   "outputs": [],
   "source": []
  }
 ],
 "metadata": {
  "kernelspec": {
   "display_name": "Python 3 (ipykernel)",
   "language": "python",
   "name": "python3"
  },
  "language_info": {
   "codemirror_mode": {
    "name": "ipython",
    "version": 3
   },
   "file_extension": ".py",
   "mimetype": "text/x-python",
   "name": "python",
   "nbconvert_exporter": "python",
   "pygments_lexer": "ipython3",
   "version": "3.11.9"
  }
 },
 "nbformat": 4,
 "nbformat_minor": 5
}
