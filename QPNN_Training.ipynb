{
 "cells": [
  {
   "cell_type": "code",
   "id": "5a52e20f-c460-4867-ab8b-c36f8cd71303",
   "metadata": {
    "ExecuteTime": {
     "end_time": "2024-06-27T18:17:23.672183Z",
     "start_time": "2024-06-27T18:17:23.650366Z"
    }
   },
   "source": [
    "import numpy as np\n",
    "import torch \n",
    "\n",
    "import pennylane as qml\n",
    "from pennylane.operation import Operation, AnyWires\n",
    "import matplotlib.pyplot as plt\n",
    "import pennylane.numpy as np\n",
    "import numpy as np\n",
    "import pandas as pd\n",
    "from sklearn.datasets import *\n",
    "import wandb\n",
    "from sklearn.preprocessing import OneHotEncoder,OrdinalEncoder, LabelEncoder\n",
    "from sklearn.model_selection import train_test_split\n",
    "\n",
    "from tqdm import tqdm\n",
    "dataset_list={\"iris\": 1,\"digits\": 2,\"wine\": 3,\"cancer\": 4, \"iris_linear\": 5, \"moon\": 6}\n",
    "s=0.05\n",
    "init_method=lambda x: torch.nn.init.uniform_(x,a=0.,b=s*np.pi)"
   ],
   "outputs": [],
   "execution_count": 71
  },
  {
   "cell_type": "code",
   "id": "fc33b482-d54b-407d-b615-243797a579fa",
   "metadata": {
    "ExecuteTime": {
     "end_time": "2024-06-27T18:17:23.680222Z",
     "start_time": "2024-06-27T18:17:23.674197Z"
    }
   },
   "source": [
    "def stereo_pj(X):\n",
    "    n,m=np.shape(X)\n",
    "    newX=np.zeros((n,m+1))\n",
    "    for rowindex,x in enumerate(X):\n",
    "        s=np.sum(pow(x,2))\n",
    "        for index in range(m):\n",
    "            newX[rowindex,index]=2*x[index]/(s+1)\n",
    "        newX[rowindex,m]=(s-1)/(s+1)\n",
    "    return newX"
   ],
   "outputs": [],
   "execution_count": 72
  },
  {
   "cell_type": "code",
   "id": "459892a1-d1b3-4644-abe1-30c88b0d3c53",
   "metadata": {
    "ExecuteTime": {
     "end_time": "2024-06-27T18:17:23.696180Z",
     "start_time": "2024-06-27T18:17:23.682138Z"
    }
   },
   "source": [
    "def get_dataset(index, split=True, split_percentage=0.33, standardization_mode=1):\n",
    "    \"\"\"\n",
    "    iris:          Load and return the iris dataset (classification).\n",
    "    digits:        Load and return the digits dataset (classification).\n",
    "    wine:          Load and return the wine dataset (classification).\n",
    "    breast_cancer: Load and return the breast cancer wisconsin dataset (classification).\n",
    "    \"\"\"\n",
    "    X=None\n",
    "    y=None\n",
    "    n_classes=None\n",
    "    print(\"Getting dataset: \",{i for i in dataset_list if dataset_list[i]==index})\n",
    "    match index:\n",
    "        case 1:\n",
    "            dataset=load_iris()\n",
    "            X = dataset.data\n",
    "            y = dataset.target\n",
    "            n_classes=len(np.unique(y))\n",
    "        case 2:\n",
    "            dataset=load_digits()#TODO: PCA\n",
    "            X = dataset.data\n",
    "            y = dataset.target\n",
    "            n_classes=len(np.unique(y))\n",
    "        case 3:\n",
    "            dataset=load_wine()\n",
    "            X = dataset.data\n",
    "            y = dataset.target\n",
    "            n_classes=len(np.unique(y))\n",
    "        case 4:\n",
    "            dataset=load_breast_cancer()\n",
    "            X = dataset.data\n",
    "            y = dataset.target\n",
    "            n_classes=len(np.unique(y))\n",
    "        case 5:\n",
    "            iris_data = load_iris()\n",
    "            iris_df = pd.DataFrame(data=iris_data['data'], columns=iris_data['feature_names'])\n",
    "            \n",
    "            iris_df['Iris type'] = iris_data['target']\n",
    "            iris_df = iris_df[iris_df[\"Iris type\"] != 2]\n",
    "            iris = iris_df.to_numpy()\n",
    "            \n",
    "            X = iris[:, :4]  # we only take the first two features.\n",
    "            y = np.ndarray.tolist(iris[:, 4].astype(int))\n",
    "            n_classes=len(np.unique(y))\n",
    "        case 6:\n",
    "            X, y = make_moons(n_samples=200, noise=0.1)\n",
    "            n_classes=len(np.unique(y))\n",
    "        case _:\n",
    "            raise Exception(\"Sorry, the dataset does not exist\")\n",
    "\n",
    "\n",
    "    match standardization_mode:\n",
    "        case 1:\n",
    "            X_mean, X_std=np.mean(X,axis=0), np.std(X,axis=0,ddof=1)\n",
    "            \n",
    "            X=(X-X_mean)/X_std\n",
    "            X=np.hstack((X,2.0*np.ones(X.shape[0])[:,None]))\n",
    "            X=np.array([np.clip(row/np.sqrt(np.sum(row**2)),-1,1) for row in X])\n",
    "        case 2:\n",
    "            X=stereo_pj(X)\n",
    "\n",
    "    y_hot=torch.zeros((len(y),n_classes),requires_grad=False)\n",
    "    for index,element in enumerate(y):\n",
    "        y_hot[index][element]=1\n",
    "\n",
    "    if split:\n",
    "        return train_test_split(X, y_hot, test_size=split_percentage, random_state=42)\n",
    "    else:\n",
    "        return X, y_hot\n"
   ],
   "outputs": [],
   "execution_count": 73
  },
  {
   "cell_type": "code",
   "id": "fdb899d1-dd9e-4638-8f4f-1d01ffa4c8c2",
   "metadata": {
    "ExecuteTime": {
     "end_time": "2024-06-27T18:17:23.716385Z",
     "start_time": "2024-06-27T18:17:23.708257Z"
    }
   },
   "source": [
    "class RBSGate(Operation):\n",
    "    num_wires = 2  \n",
    "\n",
    "    def __init__(self, theta, wires, id=None):\n",
    "        all_wires = qml.wires.Wires(wires)\n",
    "        super().__init__(theta, wires=all_wires, id=id)\n",
    "\n",
    "    @staticmethod\n",
    "    def compute_decomposition(theta, wires):\n",
    "        decomp = [\n",
    "                qml.Hadamard(wires=wires[0]),\n",
    "                qml.Hadamard(wires=wires[1]),\n",
    "                qml.CZ(wires=wires),\n",
    "                qml.RY(theta/2.,wires=wires[0]),\n",
    "                qml.RY(-theta/2.,wires=wires[1]),\n",
    "                qml.CZ(wires=wires),\n",
    "                qml.Hadamard(wires=wires[0]),\n",
    "                qml.Hadamard(wires=wires[1])\n",
    "            ]\n",
    "        return decomp"
   ],
   "outputs": [],
   "execution_count": 74
  },
  {
   "cell_type": "code",
   "id": "e104e33c-9a07-411d-8795-9aa3bccd32e4",
   "metadata": {
    "ExecuteTime": {
     "end_time": "2024-06-27T18:17:23.751414Z",
     "start_time": "2024-06-27T18:17:23.739175Z"
    }
   },
   "source": "X,Y=get_dataset(5,split=False)",
   "outputs": [
    {
     "name": "stdout",
     "output_type": "stream",
     "text": [
      "Getting dataset:  {'iris_linear'}\n"
     ]
    }
   ],
   "execution_count": 75
  },
  {
   "metadata": {
    "ExecuteTime": {
     "end_time": "2024-06-27T18:17:23.774202Z",
     "start_time": "2024-06-27T18:17:23.771202Z"
    }
   },
   "cell_type": "code",
   "source": "",
   "id": "f5341b889ac3e372",
   "outputs": [],
   "execution_count": 75
  },
  {
   "metadata": {
    "ExecuteTime": {
     "end_time": "2024-06-27T18:17:23.785634Z",
     "start_time": "2024-06-27T18:17:23.777231Z"
    }
   },
   "cell_type": "code",
   "source": [
    "def probs_single1(inputs, weights):\n",
    "    shape=[3,5]\n",
    "    max_q=np.max(shape)\n",
    "    \n",
    "    q_base=max_q-shape[0]\n",
    "    qml.PauliX(wires=q_base)\n",
    "\n",
    "    prd_fact=1.0\n",
    "    for qi_idx, qi in enumerate(range(max_q-shape[0],max_q-1)):\n",
    "\n",
    "        theta_i=torch.arccos((inputs[...,qi_idx])/prd_fact)\n",
    "        prd_fact=prd_fact*torch.sin(theta_i)\n",
    "        RBSGate(theta_i,wires=[qi,qi+1],id=f\"$\\\\alpha1_{{{{{qi}}}}}$\")\n",
    "\n",
    "    ctr=0\n",
    "    \n",
    "    for ji,j in enumerate(range(max_q,max_q-shape[1],-1)):\n",
    "        for i in range(q_base-1-ji,q_base-1-ji+shape[0]):\n",
    "            if i<0:\n",
    "                continue\n",
    "            RBSGate(weights[0][ctr],[i,i+1],id=f\"$\\\\theta1_{{{{{ctr}}}}}$\")\n",
    "            ctr+=1\n",
    "    return qml.probs(wires=range(max_q-shape[1],max_q))\n"
   ],
   "id": "6721e459df3c652b",
   "outputs": [],
   "execution_count": 76
  },
  {
   "metadata": {
    "ExecuteTime": {
     "end_time": "2024-06-27T18:17:23.800812Z",
     "start_time": "2024-06-27T18:17:23.796276Z"
    }
   },
   "cell_type": "code",
   "source": [
    "class ProbsToUnaryLayer(torch.nn.Module):\n",
    "\n",
    "    def __init__(self, size_in):\n",
    "        super(ProbsToUnaryLayer, self).__init__()\n",
    "        self.size_q_in=size_in\n",
    "\n",
    "    def forward(self, input_var):\n",
    "       # print(\"probstounitary\")\n",
    "        #print(input_var)\n",
    "\n",
    "        filt = [2**i for i in range(self.size_q_in)]\n",
    "        #print(\"filtered: \",input_var[:, filt])\n",
    "        #input()\n",
    "        return input_var[:, filt]*12-6"
   ],
   "id": "198aeedf6090600b",
   "outputs": [],
   "execution_count": 77
  },
  {
   "cell_type": "code",
   "id": "3d9353cf-a588-4c95-927c-e4690e6858fc",
   "metadata": {
    "ExecuteTime": {
     "end_time": "2024-06-27T18:17:23.835535Z",
     "start_time": "2024-06-27T18:17:23.815989Z"
    }
   },
   "source": [
    "class QPNN:\n",
    "    def __init__(self,structure,X,y,xval=None,yval=None):\n",
    "        self.X=X\n",
    "        self.y=y\n",
    "        self.xval=xval\n",
    "        self.yval=yval\n",
    "        self.architecture=[np.shape(X)[1]]+structure+[int((np.shape(y)[1]))]\n",
    "        print(self.architecture)\n",
    "        self.nqubits=np.max(self.architecture)\n",
    "        print(self.nqubits)\n",
    "        self.cuda=torch.cuda.is_available()\n",
    "        self.devs=[]\n",
    "        self.qnodes=[]\n",
    "        self.qlayers=[]\n",
    "        self.model_architecture=[]\n",
    "        for layer in range(len(self.architecture)-1):\n",
    "            n_layers = 1\n",
    "            n_pars = int((2*self.architecture[layer]-1-self.architecture[layer+1])*(self.architecture[layer+1])/2)\n",
    "            \n",
    "            dev = qml.device(\"default.qubit\", wires=self.nqubits) #TODO: ADD CUDA\n",
    "            qnode = qml.QNode(self.probs_single, dev)\n",
    "            weight_shapes = {\"weights\": (n_layers, n_pars),\"weights_aux\":(self.architecture[layer],self.architecture[layer+1])}\n",
    "            qlayer = qml.qnn.TorchLayer(qnode, weight_shapes,init_method=init_method)#\n",
    "            self.devs.append(dev)\n",
    "            self.qnodes.append(qnode)\n",
    "            self.qlayers.append(qlayer)\n",
    "            self.model_architecture.append(qlayer)\n",
    "            self.model_architecture.append(ProbsToUnaryLayer(self.architecture[layer+1]))\n",
    "            self.model_architecture.append(torch.nn.Softmax(dim=1))\n",
    "        \n",
    "        self.model= torch.nn.Sequential(*self.model_architecture)\n",
    "        for index,x in  enumerate(reversed(list(self.model.parameters()))):\n",
    "                if index%2==0:\n",
    "                    x.requires_grad =False    \n",
    "        \n",
    "    def train(self):\n",
    "        opt = torch.optim.SGD(self.model.parameters(), lr=0.1)\n",
    "\n",
    "        loss = torch.nn.CrossEntropyLoss()\n",
    "        \n",
    "        X = torch.tensor(self.X, requires_grad=False).float()\n",
    "        y = torch.tensor(self.y, requires_grad=False).float()\n",
    "        if self.xval is not None:\n",
    "            Xval = torch.tensor(self.xval, requires_grad=False).float()\n",
    "            yval = torch.tensor(self.yval, requires_grad=False).float()\n",
    "\n",
    "        batch_size = 1\n",
    "        batches = 200 // batch_size\n",
    "\n",
    "        data_loader = torch.utils.data.DataLoader(\n",
    "            list(zip(X, y)), batch_size=batch_size, shuffle=True, drop_last=True\n",
    "        )\n",
    "        \n",
    "        epochs = 50\n",
    "        print([pm for pm in self.model.parameters()])\n",
    "        for epoch in tqdm(range(epochs)):\n",
    "        \n",
    "            running_loss = 0\n",
    "            \n",
    "            for xs, ys in data_loader:\n",
    "                opt.zero_grad()\n",
    "                res=self.model(xs)\n",
    "                loss_evaluated = loss(res, ys)\n",
    "\n",
    "                loss_evaluated.backward()\n",
    "        \n",
    "                opt.step()\n",
    "        \n",
    "                running_loss += loss_evaluated\n",
    "        \n",
    "            avg_loss = running_loss / batches\n",
    "            #print(\"Average loss over epoch {}: {:.4f}\".format(epoch + 1, avg_loss))\n",
    "        print([pm for pm in self.model.parameters()])\n",
    "        y_pred = self.model(X)\n",
    "        predictions = torch.argmax(y_pred, axis=1).detach().numpy()\n",
    "        truelabel=torch.argmax(y, axis=1).detach().numpy()\n",
    "        #print(predictions)\n",
    "        #print(y)\n",
    "        correct = [1 if p == p_true else 0 for p, p_true in zip(predictions, truelabel)]\n",
    "        accuracy = sum(correct) / len(correct)\n",
    "        print(f\"Accuracy: {accuracy * 100}%\")\n",
    "        \n",
    "        \n",
    "        \n",
    "    def probs_single(self,inputs, weights,weights_aux):\n",
    "        shape=np.shape(weights_aux)\n",
    "        max_q=np.max(shape)\n",
    "        \n",
    "        q_base=max_q-shape[0]\n",
    "        qml.PauliX(wires=q_base)\n",
    "        prd_fact=1.0\n",
    "        for qi_idx, qi in enumerate(range(max_q-shape[0],max_q-1)):\n",
    "\n",
    "            theta_i=torch.arccos((inputs[...,qi_idx])/prd_fact)\n",
    "            prd_fact=prd_fact*torch.sin(theta_i)\n",
    "            RBSGate(theta_i,wires=[qi,qi+1],id=f\"$\\\\alpha1_{{{{{qi}}}}}$\")\n",
    "\n",
    "        ctr=0\n",
    "        for ji,j in enumerate(range(max_q,max_q-shape[1],-1)):\n",
    "            for i in range(q_base-1-ji,q_base-1-ji+shape[0]):\n",
    "                if i<0:\n",
    "                    continue\n",
    "                RBSGate(weights[0][ctr],[i,i+1],id=f\"$\\\\theta1_{{{{{ctr}}}}}$\")\n",
    "                ctr+=1\n",
    "        return qml.probs(wires=range(max_q-shape[1],max_q))\n",
    "        \n",
    "        \n",
    "        \n",
    "        "
   ],
   "outputs": [],
   "execution_count": 78
  },
  {
   "cell_type": "code",
   "id": "7ed54d15-2d9d-4f31-93ab-8d19608bda7a",
   "metadata": {
    "ExecuteTime": {
     "end_time": "2024-06-27T18:23:35.404641Z",
     "start_time": "2024-06-27T18:17:23.839065Z"
    }
   },
   "source": [
    "net=QPNN([5],X,Y)\n",
    "net.train()"
   ],
   "outputs": [
    {
     "name": "stderr",
     "output_type": "stream",
     "text": [
      "C:\\Users\\giaco\\AppData\\Local\\Temp\\ipykernel_11576\\1030324352.py:42: UserWarning: To copy construct from a tensor, it is recommended to use sourceTensor.clone().detach() or sourceTensor.clone().detach().requires_grad_(True), rather than torch.tensor(sourceTensor).\n",
      "  y = torch.tensor(self.y, requires_grad=False).float()\n"
     ]
    },
    {
     "name": "stdout",
     "output_type": "stream",
     "text": [
      "[5, 5, 2]\n",
      "5\n",
      "[Parameter containing:\n",
      "tensor([[0.1448, 0.1388, 0.0537, 0.0781, 0.0980, 0.0725, 0.0423, 0.1389, 0.1031,\n",
      "         0.0828]], requires_grad=True), Parameter containing:\n",
      "tensor([[0.1405, 0.1104, 0.1197, 0.0120, 0.1070],\n",
      "        [0.1039, 0.0760, 0.1324, 0.0967, 0.0820],\n",
      "        [0.0205, 0.0724, 0.0392, 0.0736, 0.1101],\n",
      "        [0.0281, 0.1449, 0.1144, 0.0735, 0.0162],\n",
      "        [0.0166, 0.0217, 0.1040, 0.0572, 0.0337]]), Parameter containing:\n",
      "tensor([[0.1445, 0.0010, 0.0614, 0.0694, 0.1066, 0.0252, 0.0777]],\n",
      "       requires_grad=True), Parameter containing:\n",
      "tensor([[0.1488, 0.0004],\n",
      "        [0.1156, 0.1401],\n",
      "        [0.0124, 0.0881],\n",
      "        [0.0370, 0.0812],\n",
      "        [0.1009, 0.1507]])]\n"
     ]
    },
    {
     "name": "stderr",
     "output_type": "stream",
     "text": [
      "100%|██████████████████████████████████████████████████████████████████████████████████| 50/50 [06:11<00:00,  7.42s/it]\n"
     ]
    },
    {
     "name": "stdout",
     "output_type": "stream",
     "text": [
      "[Parameter containing:\n",
      "tensor([[ 0.0743,  2.2240,  0.2274, -1.6976,  0.8266,  1.0648, -1.2466,  0.5797,\n",
      "          0.2586,  0.1843]], requires_grad=True), Parameter containing:\n",
      "tensor([[0.1405, 0.1104, 0.1197, 0.0120, 0.1070],\n",
      "        [0.1039, 0.0760, 0.1324, 0.0967, 0.0820],\n",
      "        [0.0205, 0.0724, 0.0392, 0.0736, 0.1101],\n",
      "        [0.0281, 0.1449, 0.1144, 0.0735, 0.0162],\n",
      "        [0.0166, 0.0217, 0.1040, 0.0572, 0.0337]]), Parameter containing:\n",
      "tensor([[ 1.6508,  1.5728,  3.8838, -2.3767,  0.3972, -1.0993, -1.8114]],\n",
      "       requires_grad=True), Parameter containing:\n",
      "tensor([[0.1488, 0.0004],\n",
      "        [0.1156, 0.1401],\n",
      "        [0.0124, 0.0881],\n",
      "        [0.0370, 0.0812],\n",
      "        [0.1009, 0.1507]])]\n",
      "Accuracy: 100.0%\n"
     ]
    }
   ],
   "execution_count": 79
  },
  {
   "cell_type": "code",
   "id": "e4899da4-0ae8-4d61-8d88-952bae606f12",
   "metadata": {
    "ExecuteTime": {
     "end_time": "2024-06-27T18:23:35.410176Z",
     "start_time": "2024-06-27T18:23:35.405652Z"
    }
   },
   "source": "",
   "outputs": [],
   "execution_count": 79
  },
  {
   "metadata": {
    "ExecuteTime": {
     "end_time": "2024-06-27T18:23:35.414711Z",
     "start_time": "2024-06-27T18:23:35.411697Z"
    }
   },
   "cell_type": "code",
   "source": "",
   "id": "acf3483baec4daa6",
   "outputs": [],
   "execution_count": 79
  }
 ],
 "metadata": {
  "kernelspec": {
   "display_name": "Python 3 (ipykernel)",
   "language": "python",
   "name": "python3"
  },
  "language_info": {
   "codemirror_mode": {
    "name": "ipython",
    "version": 3
   },
   "file_extension": ".py",
   "mimetype": "text/x-python",
   "name": "python",
   "nbconvert_exporter": "python",
   "pygments_lexer": "ipython3",
   "version": "3.11.9"
  }
 },
 "nbformat": 4,
 "nbformat_minor": 5
}
